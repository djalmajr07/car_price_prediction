{
 "cells": [
  {
   "cell_type": "markdown",
   "metadata": {},
   "source": [
    "# DATA COLLECTION AND PREP"
   ]
  },
  {
   "cell_type": "markdown",
   "metadata": {},
   "source": [
    "# 0.0 IMPORTS"
   ]
  },
  {
   "cell_type": "code",
   "execution_count": 1,
   "metadata": {},
   "outputs": [],
   "source": [
    "from bs4 import BeautifulSoup\n",
    "import requests\n",
    "import time\n",
    "import random\n",
    "import pandas as pd\n",
    "from datetime import datetime\n",
    "import os\n",
    "\n",
    "\n",
    "\n",
    "import warnings\n",
    "warnings.filterwarnings(\"ignore\")"
   ]
  },
  {
   "cell_type": "markdown",
   "metadata": {},
   "source": [
    "## 0.1 Load Data"
   ]
  },
  {
   "cell_type": "code",
   "execution_count": 2,
   "metadata": {},
   "outputs": [
    {
     "name": "stdout",
     "output_type": "stream",
     "text": [
      "ce_metadados.csv\n",
      "go_metadados.csv\n",
      "pb_metadados.csv\n",
      "sp_metadados.csv\n",
      "pr_metadados.csv\n",
      "df_metadados.csv\n",
      "rn_metadados.csv\n",
      "to_metadados.csv\n",
      "mt_metadados.csv\n",
      "mg_metadados.csv\n",
      "ba_metadados.csv\n",
      "rj_metadados.csv\n",
      "pe_metadados.csv\n",
      "ac_metadados.csv\n",
      "rs_metadados.csv\n",
      "ro_metadados.csv\n",
      "pi_metadados.csv\n",
      "am_metadados.csv\n",
      "ms_metadados.csv\n",
      "rr_metadados.csv\n",
      "se_metadados.csv\n",
      "ma_metadados.csv\n",
      "pa_metadados.csv\n",
      "ap_metadados.csv\n",
      "al_metadados.csv\n",
      "sc_metadados.csv\n",
      "es_metadados.csv\n"
     ]
    }
   ],
   "source": [
    "df_metadados=pd.DataFrame()\n",
    "\n",
    "for arquivo in os.listdir('/home/tc0019/DS/car_price_prediction/data/raw/year/'):\n",
    "    print(arquivo)\n",
    "    df_metadados=pd.concat([df_metadados, pd.read_csv('/home/tc0019/DS/car_price_prediction/data/raw/year/'+arquivo)])\n",
    "df_metadados.reset_index(drop=True,inplace=True)\n"
   ]
  },
  {
   "cell_type": "markdown",
   "metadata": {},
   "source": [
    "Checking dataframe"
   ]
  },
  {
   "cell_type": "code",
   "execution_count": 3,
   "metadata": {},
   "outputs": [
    {
     "name": "stdout",
     "output_type": "stream",
     "text": [
      "<class 'pandas.core.frame.DataFrame'>\n",
      "RangeIndex: 122890 entries, 0 to 122889\n",
      "Data columns (total 11 columns):\n",
      " #   Column                 Non-Null Count   Dtype  \n",
      "---  ------                 --------------   -----  \n",
      " 0   ID                     122890 non-null  int64  \n",
      " 1   TITULO                 122890 non-null  object \n",
      " 2   INFOS                  122890 non-null  object \n",
      " 3   VALOR                  117147 non-null  object \n",
      " 4   LOCAL                  122890 non-null  object \n",
      " 5   DATA_ANUNCIO           122890 non-null  object \n",
      " 6   LINK                   122890 non-null  object \n",
      " 7   DATA_COLETA_METADADOS  122890 non-null  object \n",
      " 8   DATA_COLETA_COMPLETA   0 non-null       float64\n",
      " 9   UF                     89371 non-null   object \n",
      " 10  Ano                    104947 non-null  object \n",
      "dtypes: float64(1), int64(1), object(9)\n",
      "memory usage: 10.3+ MB\n"
     ]
    }
   ],
   "source": [
    "df_metadados.info()"
   ]
  },
  {
   "cell_type": "code",
   "execution_count": 4,
   "metadata": {},
   "outputs": [
    {
     "data": {
      "text/plain": [
       "(101000, 11)"
      ]
     },
     "execution_count": 4,
     "metadata": {},
     "output_type": "execute_result"
    }
   ],
   "source": [
    "# drop duplicated ID's\n",
    "df_metadados_limpos=df_metadados.drop_duplicates(subset=['ID']).reset_index(drop=True)\n",
    "df_metadados_limpos.shape"
   ]
  },
  {
   "cell_type": "markdown",
   "metadata": {},
   "source": [
    "# 1.0 Data Description"
   ]
  },
  {
   "cell_type": "markdown",
   "metadata": {},
   "source": [
    "## 1.1 Check NA"
   ]
  },
  {
   "cell_type": "code",
   "execution_count": 5,
   "metadata": {},
   "outputs": [
    {
     "name": "stdout",
     "output_type": "stream",
     "text": [
      "==== INDICE DE NULOS NOS ATRIBUTOS ====\n"
     ]
    },
    {
     "data": {
      "text/plain": [
       "DATA_COLETA_COMPLETA     100.000000\n",
       "Ano                       15.450495\n",
       "UF                        12.785149\n",
       "VALOR                      3.378218\n",
       "ID                         0.000000\n",
       "TITULO                     0.000000\n",
       "INFOS                      0.000000\n",
       "LOCAL                      0.000000\n",
       "DATA_ANUNCIO               0.000000\n",
       "LINK                       0.000000\n",
       "DATA_COLETA_METADADOS      0.000000\n",
       "dtype: float64"
      ]
     },
     "execution_count": 5,
     "metadata": {},
     "output_type": "execute_result"
    }
   ],
   "source": [
    "print(\"==== INDICE DE NULOS NOS ATRIBUTOS ====\")\n",
    "dados = df_metadados_limpos.copy()\n",
    "(dados.isnull().sum()/len(dados)*100).sort_values(ascending = False)"
   ]
  },
  {
   "cell_type": "code",
   "execution_count": 6,
   "metadata": {},
   "outputs": [],
   "source": [
    "# Drop NAN values\n",
    "df_metadados_limpos.dropna(subset=['VALOR'], inplace=True)\n",
    "\n",
    "# Drop Columns with many NAN values\n",
    "df_metadados_limpos.drop(columns=['DATA_COLETA_COMPLETA'], inplace=True)\n",
    "\n",
    "df_metadados_limpos.reset_index(inplace=True,drop=True)"
   ]
  },
  {
   "cell_type": "markdown",
   "metadata": {},
   "source": [
    "## 1.2 PREPARAÇÃO/TRATAMENTO NOS DADOS"
   ]
  },
  {
   "cell_type": "markdown",
   "metadata": {},
   "source": [
    "- Com base no que foi analisado inicialmente nos dados, vamos realizar os seguintes procedimentos para tratar os dados\n",
    "    - Converter todos os atributos para minúsculo\n",
    "    - INFOS: dividir em km, cambio e combustivel em novas colunas. Retirar ponto do KM e converter para float\n",
    "    - VALOR: limpar R$, retirar ponto e converter para float\n",
    "    - LOCAL: excluir coluna (já temos a UF)\n",
    "    - DATA_ANUNCIO: excluir coluna\n",
    "    - LINK: excluir coluna\n",
    "    - DATA_COLETA: excluir coluna.\n",
    "    - UF: corrigir linhas NULAS utilizando a coluna LINK para recuperar a UF"
   ]
  },
  {
   "cell_type": "code",
   "execution_count": 7,
   "metadata": {},
   "outputs": [
    {
     "data": {
      "text/html": [
       "<div>\n",
       "<style scoped>\n",
       "    .dataframe tbody tr th:only-of-type {\n",
       "        vertical-align: middle;\n",
       "    }\n",
       "\n",
       "    .dataframe tbody tr th {\n",
       "        vertical-align: top;\n",
       "    }\n",
       "\n",
       "    .dataframe thead th {\n",
       "        text-align: right;\n",
       "    }\n",
       "</style>\n",
       "<table border=\"1\" class=\"dataframe\">\n",
       "  <thead>\n",
       "    <tr style=\"text-align: right;\">\n",
       "      <th></th>\n",
       "      <th>ID</th>\n",
       "      <th>TITULO</th>\n",
       "      <th>INFOS</th>\n",
       "      <th>VALOR</th>\n",
       "      <th>LOCAL</th>\n",
       "      <th>DATA_ANUNCIO</th>\n",
       "      <th>LINK</th>\n",
       "      <th>DATA_COLETA_METADADOS</th>\n",
       "      <th>UF</th>\n",
       "      <th>Ano</th>\n",
       "    </tr>\n",
       "  </thead>\n",
       "  <tbody>\n",
       "    <tr>\n",
       "      <th>0</th>\n",
       "      <td>1028211161</td>\n",
       "      <td>silverado 99.28 mil</td>\n",
       "      <td>0 km  |  câmbio: manual  |  diesel  |</td>\n",
       "      <td>r$ 28.000</td>\n",
       "      <td>maracanaú, pajuçara - ddd 85</td>\n",
       "      <td>hoje, 21:09</td>\n",
       "      <td>https://ce.olx.com.br/fortaleza-e-regiao/autos...</td>\n",
       "      <td>2022-05-04</td>\n",
       "      <td>ce</td>\n",
       "      <td>NaN</td>\n",
       "    </tr>\n",
       "    <tr>\n",
       "      <th>1</th>\n",
       "      <td>1026520834</td>\n",
       "      <td>nissan kicks sl cvt 2019</td>\n",
       "      <td>32.124 km  |  câmbio: automático  |  flex  |</td>\n",
       "      <td>r$ 103.900</td>\n",
       "      <td>fortaleza, tauape - ddd 85</td>\n",
       "      <td>hoje, 21:08</td>\n",
       "      <td>https://ce.olx.com.br/fortaleza-e-regiao/autos...</td>\n",
       "      <td>2022-05-04</td>\n",
       "      <td>ce</td>\n",
       "      <td>2019.0</td>\n",
       "    </tr>\n",
       "    <tr>\n",
       "      <th>2</th>\n",
       "      <td>1016380244</td>\n",
       "      <td>hrv 2016 lx 1.8 flex!</td>\n",
       "      <td>85.000 km  |  câmbio: automático  |  flex  |</td>\n",
       "      <td>r$ 86.900</td>\n",
       "      <td>fortaleza, salinas - ddd 85</td>\n",
       "      <td>hoje, 21:08</td>\n",
       "      <td>https://ce.olx.com.br/fortaleza-e-regiao/autos...</td>\n",
       "      <td>2022-05-04</td>\n",
       "      <td>ce</td>\n",
       "      <td>2016.0</td>\n",
       "    </tr>\n",
       "    <tr>\n",
       "      <th>3</th>\n",
       "      <td>964674083</td>\n",
       "      <td>hilux sw4 srx 2019 diesel.</td>\n",
       "      <td>62.000 km  |  câmbio: automático  |  diesel  |</td>\n",
       "      <td>r$ 305.900</td>\n",
       "      <td>fortaleza, salinas - ddd 85</td>\n",
       "      <td>hoje, 21:08</td>\n",
       "      <td>https://ce.olx.com.br/fortaleza-e-regiao/autos...</td>\n",
       "      <td>2022-05-04</td>\n",
       "      <td>ce</td>\n",
       "      <td>2019.0</td>\n",
       "    </tr>\n",
       "    <tr>\n",
       "      <th>4</th>\n",
       "      <td>999438981</td>\n",
       "      <td>mitsubishi pajero dakar hpe 3.2 4x4 t.i dies 5...</td>\n",
       "      <td>61.605 km  |  câmbio: automático  |  diesel  |</td>\n",
       "      <td>r$ 169.900</td>\n",
       "      <td>fortaleza, eng luciano cavalcante - ddd 85</td>\n",
       "      <td>hoje, 21:08</td>\n",
       "      <td>https://ce.olx.com.br/fortaleza-e-regiao/autos...</td>\n",
       "      <td>2022-05-04</td>\n",
       "      <td>ce</td>\n",
       "      <td>2015.0</td>\n",
       "    </tr>\n",
       "  </tbody>\n",
       "</table>\n",
       "</div>"
      ],
      "text/plain": [
       "           ID                                             TITULO  \\\n",
       "0  1028211161                                silverado 99.28 mil   \n",
       "1  1026520834                           nissan kicks sl cvt 2019   \n",
       "2  1016380244                             hrv 2016 lx 1.8 flex!    \n",
       "3   964674083                        hilux sw4 srx 2019 diesel.    \n",
       "4   999438981  mitsubishi pajero dakar hpe 3.2 4x4 t.i dies 5...   \n",
       "\n",
       "                                              INFOS       VALOR  \\\n",
       "0           0 km  |  câmbio: manual  |  diesel  |     r$ 28.000   \n",
       "1    32.124 km  |  câmbio: automático  |  flex  |    r$ 103.900   \n",
       "2    85.000 km  |  câmbio: automático  |  flex  |     r$ 86.900   \n",
       "3  62.000 km  |  câmbio: automático  |  diesel  |    r$ 305.900   \n",
       "4  61.605 km  |  câmbio: automático  |  diesel  |    r$ 169.900   \n",
       "\n",
       "                                        LOCAL DATA_ANUNCIO  \\\n",
       "0                maracanaú, pajuçara - ddd 85  hoje, 21:09   \n",
       "1                  fortaleza, tauape - ddd 85  hoje, 21:08   \n",
       "2                 fortaleza, salinas - ddd 85  hoje, 21:08   \n",
       "3                 fortaleza, salinas - ddd 85  hoje, 21:08   \n",
       "4  fortaleza, eng luciano cavalcante - ddd 85  hoje, 21:08   \n",
       "\n",
       "                                                LINK DATA_COLETA_METADADOS  \\\n",
       "0  https://ce.olx.com.br/fortaleza-e-regiao/autos...            2022-05-04   \n",
       "1  https://ce.olx.com.br/fortaleza-e-regiao/autos...            2022-05-04   \n",
       "2  https://ce.olx.com.br/fortaleza-e-regiao/autos...            2022-05-04   \n",
       "3  https://ce.olx.com.br/fortaleza-e-regiao/autos...            2022-05-04   \n",
       "4  https://ce.olx.com.br/fortaleza-e-regiao/autos...            2022-05-04   \n",
       "\n",
       "   UF     Ano  \n",
       "0  ce     NaN  \n",
       "1  ce  2019.0  \n",
       "2  ce  2016.0  \n",
       "3  ce  2019.0  \n",
       "4  ce  2015.0  "
      ]
     },
     "execution_count": 7,
     "metadata": {},
     "output_type": "execute_result"
    }
   ],
   "source": [
    "df_metadados_limpos = df_metadados_limpos.applymap(lambda x: x.lower() if type(x) == str else x)\n",
    "df_metadados_limpos.head()"
   ]
  },
  {
   "cell_type": "markdown",
   "metadata": {},
   "source": [
    "INFOS"
   ]
  },
  {
   "cell_type": "code",
   "execution_count": 8,
   "metadata": {},
   "outputs": [
    {
     "data": {
      "text/plain": [
       "'0 km\\xa0\\xa0|\\xa0\\xa0câmbio: manual\\xa0\\xa0|\\xa0\\xa0diesel\\xa0\\xa0|\\xa0\\xa0'"
      ]
     },
     "execution_count": 8,
     "metadata": {},
     "output_type": "execute_result"
    }
   ],
   "source": [
    "df_metadados_limpos.INFOS[0]"
   ]
  },
  {
   "cell_type": "code",
   "execution_count": 9,
   "metadata": {},
   "outputs": [],
   "source": [
    "## cleaning unwanted characters\n",
    "infos = df_metadados_limpos.INFOS[:].str.replace(\"km|câmbio|:|\\xa0|\\.|\\s+\",\"\",regex=True)"
   ]
  },
  {
   "cell_type": "markdown",
   "metadata": {},
   "source": []
  },
  {
   "cell_type": "markdown",
   "metadata": {},
   "source": []
  },
  {
   "cell_type": "code",
   "execution_count": 10,
   "metadata": {},
   "outputs": [
    {
     "data": {
      "text/plain": [
       "0                [0, manual, diesel]\n",
       "1          [32124, automático, flex]\n",
       "2          [85000, automático, flex]\n",
       "3        [62000, automático, diesel]\n",
       "4        [61605, automático, diesel]\n",
       "                    ...             \n",
       "97583         [145000, manual, flex]\n",
       "97584          [65900, manual, flex]\n",
       "97585              [0, manual, flex]\n",
       "97586      [64052, automático, flex]\n",
       "97587    [47934, automático, diesel]\n",
       "Name: INFOS, Length: 97588, dtype: object"
      ]
     },
     "execution_count": 10,
     "metadata": {},
     "output_type": "execute_result"
    }
   ],
   "source": [
    "infos=infos.str.replace('\\|$', \"\",regex=True)\n",
    "infos=infos.str.split('|')\n",
    "infos\n"
   ]
  },
  {
   "cell_type": "code",
   "execution_count": 11,
   "metadata": {},
   "outputs": [
    {
     "data": {
      "text/plain": [
       "[['0', 'manual', 'diesel'],\n",
       " ['32124', 'automático', 'flex'],\n",
       " ['85000', 'automático', 'flex'],\n",
       " ['62000', 'automático', 'diesel'],\n",
       " ['61605', 'automático', 'diesel'],\n",
       " ['50979', 'automático', 'flex'],\n",
       " ['59000', 'manual', 'flex'],\n",
       " ['95700', 'manual', 'flex'],\n",
       " ['17000', 'automático', 'gasolina'],\n",
       " ['36000', 'manual', 'flex']]"
      ]
     },
     "execution_count": 11,
     "metadata": {},
     "output_type": "execute_result"
    }
   ],
   "source": [
    "lista_infos=[i for i in infos]\n",
    "lista_infos[:10]"
   ]
  },
  {
   "cell_type": "code",
   "execution_count": 12,
   "metadata": {},
   "outputs": [
    {
     "data": {
      "text/html": [
       "<div>\n",
       "<style scoped>\n",
       "    .dataframe tbody tr th:only-of-type {\n",
       "        vertical-align: middle;\n",
       "    }\n",
       "\n",
       "    .dataframe tbody tr th {\n",
       "        vertical-align: top;\n",
       "    }\n",
       "\n",
       "    .dataframe thead th {\n",
       "        text-align: right;\n",
       "    }\n",
       "</style>\n",
       "<table border=\"1\" class=\"dataframe\">\n",
       "  <thead>\n",
       "    <tr style=\"text-align: right;\">\n",
       "      <th></th>\n",
       "      <th>ID</th>\n",
       "      <th>TITULO</th>\n",
       "      <th>INFOS</th>\n",
       "      <th>VALOR</th>\n",
       "      <th>LOCAL</th>\n",
       "      <th>DATA_ANUNCIO</th>\n",
       "      <th>LINK</th>\n",
       "      <th>DATA_COLETA_METADADOS</th>\n",
       "      <th>UF</th>\n",
       "      <th>Ano</th>\n",
       "      <th>KM</th>\n",
       "      <th>CAMBIO</th>\n",
       "      <th>COMBUSTIVEL</th>\n",
       "    </tr>\n",
       "  </thead>\n",
       "  <tbody>\n",
       "    <tr>\n",
       "      <th>0</th>\n",
       "      <td>1028211161</td>\n",
       "      <td>silverado 99.28 mil</td>\n",
       "      <td>0 km  |  câmbio: manual  |  diesel  |</td>\n",
       "      <td>r$ 28.000</td>\n",
       "      <td>maracanaú, pajuçara - ddd 85</td>\n",
       "      <td>hoje, 21:09</td>\n",
       "      <td>https://ce.olx.com.br/fortaleza-e-regiao/autos...</td>\n",
       "      <td>2022-05-04</td>\n",
       "      <td>ce</td>\n",
       "      <td>NaN</td>\n",
       "      <td>0</td>\n",
       "      <td>manual</td>\n",
       "      <td>diesel</td>\n",
       "    </tr>\n",
       "    <tr>\n",
       "      <th>1</th>\n",
       "      <td>1026520834</td>\n",
       "      <td>nissan kicks sl cvt 2019</td>\n",
       "      <td>32.124 km  |  câmbio: automático  |  flex  |</td>\n",
       "      <td>r$ 103.900</td>\n",
       "      <td>fortaleza, tauape - ddd 85</td>\n",
       "      <td>hoje, 21:08</td>\n",
       "      <td>https://ce.olx.com.br/fortaleza-e-regiao/autos...</td>\n",
       "      <td>2022-05-04</td>\n",
       "      <td>ce</td>\n",
       "      <td>2019.0</td>\n",
       "      <td>32124</td>\n",
       "      <td>automático</td>\n",
       "      <td>flex</td>\n",
       "    </tr>\n",
       "    <tr>\n",
       "      <th>2</th>\n",
       "      <td>1016380244</td>\n",
       "      <td>hrv 2016 lx 1.8 flex!</td>\n",
       "      <td>85.000 km  |  câmbio: automático  |  flex  |</td>\n",
       "      <td>r$ 86.900</td>\n",
       "      <td>fortaleza, salinas - ddd 85</td>\n",
       "      <td>hoje, 21:08</td>\n",
       "      <td>https://ce.olx.com.br/fortaleza-e-regiao/autos...</td>\n",
       "      <td>2022-05-04</td>\n",
       "      <td>ce</td>\n",
       "      <td>2016.0</td>\n",
       "      <td>85000</td>\n",
       "      <td>automático</td>\n",
       "      <td>flex</td>\n",
       "    </tr>\n",
       "    <tr>\n",
       "      <th>3</th>\n",
       "      <td>964674083</td>\n",
       "      <td>hilux sw4 srx 2019 diesel.</td>\n",
       "      <td>62.000 km  |  câmbio: automático  |  diesel  |</td>\n",
       "      <td>r$ 305.900</td>\n",
       "      <td>fortaleza, salinas - ddd 85</td>\n",
       "      <td>hoje, 21:08</td>\n",
       "      <td>https://ce.olx.com.br/fortaleza-e-regiao/autos...</td>\n",
       "      <td>2022-05-04</td>\n",
       "      <td>ce</td>\n",
       "      <td>2019.0</td>\n",
       "      <td>62000</td>\n",
       "      <td>automático</td>\n",
       "      <td>diesel</td>\n",
       "    </tr>\n",
       "    <tr>\n",
       "      <th>4</th>\n",
       "      <td>999438981</td>\n",
       "      <td>mitsubishi pajero dakar hpe 3.2 4x4 t.i dies 5...</td>\n",
       "      <td>61.605 km  |  câmbio: automático  |  diesel  |</td>\n",
       "      <td>r$ 169.900</td>\n",
       "      <td>fortaleza, eng luciano cavalcante - ddd 85</td>\n",
       "      <td>hoje, 21:08</td>\n",
       "      <td>https://ce.olx.com.br/fortaleza-e-regiao/autos...</td>\n",
       "      <td>2022-05-04</td>\n",
       "      <td>ce</td>\n",
       "      <td>2015.0</td>\n",
       "      <td>61605</td>\n",
       "      <td>automático</td>\n",
       "      <td>diesel</td>\n",
       "    </tr>\n",
       "  </tbody>\n",
       "</table>\n",
       "</div>"
      ],
      "text/plain": [
       "           ID                                             TITULO  \\\n",
       "0  1028211161                                silverado 99.28 mil   \n",
       "1  1026520834                           nissan kicks sl cvt 2019   \n",
       "2  1016380244                             hrv 2016 lx 1.8 flex!    \n",
       "3   964674083                        hilux sw4 srx 2019 diesel.    \n",
       "4   999438981  mitsubishi pajero dakar hpe 3.2 4x4 t.i dies 5...   \n",
       "\n",
       "                                              INFOS       VALOR  \\\n",
       "0           0 km  |  câmbio: manual  |  diesel  |     r$ 28.000   \n",
       "1    32.124 km  |  câmbio: automático  |  flex  |    r$ 103.900   \n",
       "2    85.000 km  |  câmbio: automático  |  flex  |     r$ 86.900   \n",
       "3  62.000 km  |  câmbio: automático  |  diesel  |    r$ 305.900   \n",
       "4  61.605 km  |  câmbio: automático  |  diesel  |    r$ 169.900   \n",
       "\n",
       "                                        LOCAL DATA_ANUNCIO  \\\n",
       "0                maracanaú, pajuçara - ddd 85  hoje, 21:09   \n",
       "1                  fortaleza, tauape - ddd 85  hoje, 21:08   \n",
       "2                 fortaleza, salinas - ddd 85  hoje, 21:08   \n",
       "3                 fortaleza, salinas - ddd 85  hoje, 21:08   \n",
       "4  fortaleza, eng luciano cavalcante - ddd 85  hoje, 21:08   \n",
       "\n",
       "                                                LINK DATA_COLETA_METADADOS  \\\n",
       "0  https://ce.olx.com.br/fortaleza-e-regiao/autos...            2022-05-04   \n",
       "1  https://ce.olx.com.br/fortaleza-e-regiao/autos...            2022-05-04   \n",
       "2  https://ce.olx.com.br/fortaleza-e-regiao/autos...            2022-05-04   \n",
       "3  https://ce.olx.com.br/fortaleza-e-regiao/autos...            2022-05-04   \n",
       "4  https://ce.olx.com.br/fortaleza-e-regiao/autos...            2022-05-04   \n",
       "\n",
       "   UF     Ano     KM      CAMBIO COMBUSTIVEL  \n",
       "0  ce     NaN      0      manual      diesel  \n",
       "1  ce  2019.0  32124  automático        flex  \n",
       "2  ce  2016.0  85000  automático        flex  \n",
       "3  ce  2019.0  62000  automático      diesel  \n",
       "4  ce  2015.0  61605  automático      diesel  "
      ]
     },
     "execution_count": 12,
     "metadata": {},
     "output_type": "execute_result"
    }
   ],
   "source": [
    "infos_veiculo = pd.DataFrame(lista_infos, columns= ['KM', 'CAMBIO', 'COMBUSTIVEL'])\n",
    "df_metadados_limpos_2 = pd.concat([df_metadados_limpos, infos_veiculo], axis=1)\n",
    "df_metadados_limpos_2.to_csv('/home/tc0019/DS/car_price_prediction/data/raw/metadados_limpos_2.csv')\n",
    "df_metadados_limpos_2.head()"
   ]
  },
  {
   "cell_type": "markdown",
   "metadata": {},
   "source": [
    "VALOR"
   ]
  },
  {
   "cell_type": "code",
   "execution_count": 13,
   "metadata": {},
   "outputs": [
    {
     "data": {
      "text/html": [
       "<div>\n",
       "<style scoped>\n",
       "    .dataframe tbody tr th:only-of-type {\n",
       "        vertical-align: middle;\n",
       "    }\n",
       "\n",
       "    .dataframe tbody tr th {\n",
       "        vertical-align: top;\n",
       "    }\n",
       "\n",
       "    .dataframe thead th {\n",
       "        text-align: right;\n",
       "    }\n",
       "</style>\n",
       "<table border=\"1\" class=\"dataframe\">\n",
       "  <thead>\n",
       "    <tr style=\"text-align: right;\">\n",
       "      <th></th>\n",
       "      <th>ID</th>\n",
       "      <th>TITULO</th>\n",
       "      <th>INFOS</th>\n",
       "      <th>VALOR</th>\n",
       "      <th>LOCAL</th>\n",
       "      <th>DATA_ANUNCIO</th>\n",
       "      <th>LINK</th>\n",
       "      <th>DATA_COLETA_METADADOS</th>\n",
       "      <th>UF</th>\n",
       "      <th>Ano</th>\n",
       "      <th>KM</th>\n",
       "      <th>CAMBIO</th>\n",
       "      <th>COMBUSTIVEL</th>\n",
       "      <th>VALOR_LIMPO</th>\n",
       "    </tr>\n",
       "  </thead>\n",
       "  <tbody>\n",
       "    <tr>\n",
       "      <th>87008</th>\n",
       "      <td>1023809599</td>\n",
       "      <td>vende uma praca de taxi na barra santo antonio</td>\n",
       "      <td>0 km  |  câmbio: manual  |  flex  |</td>\n",
       "      <td>r$ 15.000</td>\n",
       "      <td>barra de santo antônio - ddd 82</td>\n",
       "      <td>23 abr, 08:50</td>\n",
       "      <td>https://al.olx.com.br/alagoas/autos-e-pecas/ca...</td>\n",
       "      <td>2022-05-03</td>\n",
       "      <td>NaN</td>\n",
       "      <td>2015</td>\n",
       "      <td>0</td>\n",
       "      <td>manual</td>\n",
       "      <td>flex</td>\n",
       "      <td>15000</td>\n",
       "    </tr>\n",
       "    <tr>\n",
       "      <th>39184</th>\n",
       "      <td>1016882239</td>\n",
       "      <td>jeep renegade longitude</td>\n",
       "      <td>62.000 km  |  câmbio: semi-automático  |  flex...</td>\n",
       "      <td>r$ 97.000</td>\n",
       "      <td>salvador, armação - ddd 71</td>\n",
       "      <td>hoje, 17:25</td>\n",
       "      <td>https://ba.olx.com.br/grande-salvador/autos-e-...</td>\n",
       "      <td>2022-05-03</td>\n",
       "      <td>ba</td>\n",
       "      <td>2020.0</td>\n",
       "      <td>62000</td>\n",
       "      <td>semi-automático</td>\n",
       "      <td>flex</td>\n",
       "      <td>97000</td>\n",
       "    </tr>\n",
       "    <tr>\n",
       "      <th>31539</th>\n",
       "      <td>979717427</td>\n",
       "      <td>etios 2019/2020 1.5 x plus sedan 16v flex 4p a...</td>\n",
       "      <td>55.404 km  |  câmbio: automático  |  flex  |</td>\n",
       "      <td>r$ 69.790</td>\n",
       "      <td>cuiabá, poção - ddd 65</td>\n",
       "      <td>22 abr, 15:12</td>\n",
       "      <td>https://mt.olx.com.br/regiao-de-cuiaba/autos-e...</td>\n",
       "      <td>2022-05-04</td>\n",
       "      <td>mt</td>\n",
       "      <td>2020</td>\n",
       "      <td>55404</td>\n",
       "      <td>automático</td>\n",
       "      <td>flex</td>\n",
       "      <td>69790</td>\n",
       "    </tr>\n",
       "    <tr>\n",
       "      <th>39064</th>\n",
       "      <td>1005276498</td>\n",
       "      <td>strada freedon cd 1.4 2020 3 portas apenas 40 ...</td>\n",
       "      <td>40.000 km  |  câmbio: manual  |  flex  |</td>\n",
       "      <td>r$ 83.999</td>\n",
       "      <td>salvador, imbuí - ddd 71</td>\n",
       "      <td>hoje, 18:22</td>\n",
       "      <td>https://ba.olx.com.br/grande-salvador/autos-e-...</td>\n",
       "      <td>2022-05-03</td>\n",
       "      <td>ba</td>\n",
       "      <td>2020.0</td>\n",
       "      <td>40000</td>\n",
       "      <td>manual</td>\n",
       "      <td>flex</td>\n",
       "      <td>83999</td>\n",
       "    </tr>\n",
       "    <tr>\n",
       "      <th>78205</th>\n",
       "      <td>1021404405</td>\n",
       "      <td>ford ka 2003</td>\n",
       "      <td>0 km  |  câmbio: manual  |  gasolina  |</td>\n",
       "      <td>r$ 5.000</td>\n",
       "      <td>são luís, turu - ddd 98</td>\n",
       "      <td>17 abr, 10:23</td>\n",
       "      <td>https://ma.olx.com.br/regiao-de-sao-luis/autos...</td>\n",
       "      <td>2022-05-04</td>\n",
       "      <td>ma</td>\n",
       "      <td>2003</td>\n",
       "      <td>0</td>\n",
       "      <td>manual</td>\n",
       "      <td>gasolina</td>\n",
       "      <td>5000</td>\n",
       "    </tr>\n",
       "  </tbody>\n",
       "</table>\n",
       "</div>"
      ],
      "text/plain": [
       "               ID                                             TITULO  \\\n",
       "87008  1023809599   vende uma praca de taxi na barra santo antonio     \n",
       "39184  1016882239                            jeep renegade longitude   \n",
       "31539   979717427  etios 2019/2020 1.5 x plus sedan 16v flex 4p a...   \n",
       "39064  1005276498  strada freedon cd 1.4 2020 3 portas apenas 40 ...   \n",
       "78205  1021404405                                       ford ka 2003   \n",
       "\n",
       "                                                   INFOS      VALOR  \\\n",
       "87008              0 km  |  câmbio: manual  |  flex  |    r$ 15.000   \n",
       "39184  62.000 km  |  câmbio: semi-automático  |  flex...  r$ 97.000   \n",
       "31539     55.404 km  |  câmbio: automático  |  flex  |    r$ 69.790   \n",
       "39064         40.000 km  |  câmbio: manual  |  flex  |    r$ 83.999   \n",
       "78205          0 km  |  câmbio: manual  |  gasolina  |     r$ 5.000   \n",
       "\n",
       "                                 LOCAL   DATA_ANUNCIO  \\\n",
       "87008  barra de santo antônio - ddd 82  23 abr, 08:50   \n",
       "39184       salvador, armação - ddd 71    hoje, 17:25   \n",
       "31539           cuiabá, poção - ddd 65  22 abr, 15:12   \n",
       "39064         salvador, imbuí - ddd 71    hoje, 18:22   \n",
       "78205          são luís, turu - ddd 98  17 abr, 10:23   \n",
       "\n",
       "                                                    LINK  \\\n",
       "87008  https://al.olx.com.br/alagoas/autos-e-pecas/ca...   \n",
       "39184  https://ba.olx.com.br/grande-salvador/autos-e-...   \n",
       "31539  https://mt.olx.com.br/regiao-de-cuiaba/autos-e...   \n",
       "39064  https://ba.olx.com.br/grande-salvador/autos-e-...   \n",
       "78205  https://ma.olx.com.br/regiao-de-sao-luis/autos...   \n",
       "\n",
       "      DATA_COLETA_METADADOS   UF     Ano     KM           CAMBIO COMBUSTIVEL  \\\n",
       "87008            2022-05-03  NaN    2015      0           manual        flex   \n",
       "39184            2022-05-03   ba  2020.0  62000  semi-automático        flex   \n",
       "31539            2022-05-04   mt    2020  55404       automático        flex   \n",
       "39064            2022-05-03   ba  2020.0  40000           manual        flex   \n",
       "78205            2022-05-04   ma    2003      0           manual    gasolina   \n",
       "\n",
       "      VALOR_LIMPO  \n",
       "87008       15000  \n",
       "39184       97000  \n",
       "31539       69790  \n",
       "39064       83999  \n",
       "78205        5000  "
      ]
     },
     "execution_count": 13,
     "metadata": {},
     "output_type": "execute_result"
    }
   ],
   "source": [
    "df_metadados_limpos_2.loc[:, 'VALOR_LIMPO'] = df_metadados_limpos_2.VALOR.str.replace('r\\$|\\.|\\s+', '',regex=True)\n",
    "df_metadados_limpos_2.sample(5)"
   ]
  },
  {
   "cell_type": "markdown",
   "metadata": {},
   "source": [
    "UF"
   ]
  },
  {
   "cell_type": "code",
   "execution_count": 14,
   "metadata": {},
   "outputs": [
    {
     "data": {
      "text/plain": [
       "(21,\n",
       " array(['ce', 'go', 'pb', 'sp', 'pr', 'df', nan, 'to', 'mt', 'mg', 'ba',\n",
       "        'pe', 'rs', 'ro', 'pi', 'ms', 'rr', 'se', 'ma', 'pa', 'sc', 'es'],\n",
       "       dtype=object))"
      ]
     },
     "execution_count": 14,
     "metadata": {},
     "output_type": "execute_result"
    }
   ],
   "source": [
    "(df_metadados_limpos_2.UF.nunique(),df_metadados_limpos_2.UF.unique())"
   ]
  },
  {
   "cell_type": "code",
   "execution_count": 15,
   "metadata": {},
   "outputs": [
    {
     "data": {
      "text/plain": [
       "0    ce\n",
       "1    ce\n",
       "2    ce\n",
       "3    ce\n",
       "4    ce\n",
       "Name: LINK, dtype: object"
      ]
     },
     "execution_count": 15,
     "metadata": {},
     "output_type": "execute_result"
    }
   ],
   "source": [
    "# getting uf from link column\n",
    "df_metadados_limpos_2.LINK[:5].apply(lambda x: x[8:10])"
   ]
  },
  {
   "cell_type": "code",
   "execution_count": 16,
   "metadata": {},
   "outputs": [],
   "source": [
    "# insert column value only with none value\n",
    "ids_uf_none=df_metadados_limpos_2.query('UF.isnull()', engine='python')['ID']\n",
    "ids_uf_none=ids_uf_none.dropna()"
   ]
  },
  {
   "cell_type": "code",
   "execution_count": 17,
   "metadata": {},
   "outputs": [],
   "source": [
    "# replacing NONE with UF\n",
    "df_metadados_limpos_2.loc[df_metadados_limpos_2.ID.isin(ids_uf_none),'UF'] = df_metadados_limpos_2.query(f\"ID in {ids_uf_none.tolist()}\").LINK.apply(lambda x: x[8:10])"
   ]
  },
  {
   "cell_type": "code",
   "execution_count": 18,
   "metadata": {},
   "outputs": [
    {
     "name": "stdout",
     "output_type": "stream",
     "text": [
      "==== INDICE DE NULOS NOS ATRIBUTOS ====\n"
     ]
    },
    {
     "data": {
      "text/plain": [
       "Ano                      15.546993\n",
       "COMBUSTIVEL               4.080420\n",
       "CAMBIO                    1.937738\n",
       "ID                        0.000000\n",
       "TITULO                    0.000000\n",
       "INFOS                     0.000000\n",
       "VALOR                     0.000000\n",
       "LOCAL                     0.000000\n",
       "DATA_ANUNCIO              0.000000\n",
       "LINK                      0.000000\n",
       "DATA_COLETA_METADADOS     0.000000\n",
       "UF                        0.000000\n",
       "KM                        0.000000\n",
       "VALOR_LIMPO               0.000000\n",
       "dtype: float64"
      ]
     },
     "execution_count": 18,
     "metadata": {},
     "output_type": "execute_result"
    }
   ],
   "source": [
    "print(\"==== INDICE DE NULOS NOS ATRIBUTOS ====\")\n",
    "dados = df_metadados_limpos_2.copy()\n",
    "(dados.isnull().sum()/len(dados)*100).sort_values(ascending=False)"
   ]
  },
  {
   "cell_type": "markdown",
   "metadata": {},
   "source": [
    "Validation and adjustments\n",
    "- Just checking some transformations done."
   ]
  },
  {
   "cell_type": "code",
   "execution_count": 19,
   "metadata": {},
   "outputs": [
    {
     "data": {
      "text/plain": [
       "array(['manual', 'automático', 'semi-automático', None, 'diesel', 'flex',\n",
       "       'gasolina', 'híbrido', 'álcool', 'gásnatural'], dtype=object)"
      ]
     },
     "execution_count": 19,
     "metadata": {},
     "output_type": "execute_result"
    }
   ],
   "source": [
    "df_metadados_limpos_2.CAMBIO.unique()"
   ]
  },
  {
   "cell_type": "markdown",
   "metadata": {},
   "source": [
    "Shifting fuel filled in a wrong way in cambio to fuel column"
   ]
  },
  {
   "cell_type": "code",
   "execution_count": 20,
   "metadata": {},
   "outputs": [
    {
     "data": {
      "text/html": [
       "<div>\n",
       "<style scoped>\n",
       "    .dataframe tbody tr th:only-of-type {\n",
       "        vertical-align: middle;\n",
       "    }\n",
       "\n",
       "    .dataframe tbody tr th {\n",
       "        vertical-align: top;\n",
       "    }\n",
       "\n",
       "    .dataframe thead th {\n",
       "        text-align: right;\n",
       "    }\n",
       "</style>\n",
       "<table border=\"1\" class=\"dataframe\">\n",
       "  <thead>\n",
       "    <tr style=\"text-align: right;\">\n",
       "      <th></th>\n",
       "      <th>KM</th>\n",
       "      <th>CAMBIO</th>\n",
       "      <th>COMBUSTIVEL</th>\n",
       "    </tr>\n",
       "  </thead>\n",
       "  <tbody>\n",
       "    <tr>\n",
       "      <th>921</th>\n",
       "      <td>30000</td>\n",
       "      <td>diesel</td>\n",
       "      <td>None</td>\n",
       "    </tr>\n",
       "    <tr>\n",
       "      <th>1064</th>\n",
       "      <td>11000</td>\n",
       "      <td>diesel</td>\n",
       "      <td>None</td>\n",
       "    </tr>\n",
       "    <tr>\n",
       "      <th>1341</th>\n",
       "      <td>100000</td>\n",
       "      <td>diesel</td>\n",
       "      <td>None</td>\n",
       "    </tr>\n",
       "    <tr>\n",
       "      <th>1379</th>\n",
       "      <td>134000</td>\n",
       "      <td>flex</td>\n",
       "      <td>None</td>\n",
       "    </tr>\n",
       "    <tr>\n",
       "      <th>1816</th>\n",
       "      <td>10500</td>\n",
       "      <td>gasolina</td>\n",
       "      <td>None</td>\n",
       "    </tr>\n",
       "    <tr>\n",
       "      <th>...</th>\n",
       "      <td>...</td>\n",
       "      <td>...</td>\n",
       "      <td>...</td>\n",
       "    </tr>\n",
       "    <tr>\n",
       "      <th>95759</th>\n",
       "      <td>89000</td>\n",
       "      <td>gasolina</td>\n",
       "      <td>None</td>\n",
       "    </tr>\n",
       "    <tr>\n",
       "      <th>96126</th>\n",
       "      <td>8100</td>\n",
       "      <td>flex</td>\n",
       "      <td>None</td>\n",
       "    </tr>\n",
       "    <tr>\n",
       "      <th>96160</th>\n",
       "      <td>68000</td>\n",
       "      <td>diesel</td>\n",
       "      <td>None</td>\n",
       "    </tr>\n",
       "    <tr>\n",
       "      <th>97010</th>\n",
       "      <td>20000</td>\n",
       "      <td>gasolina</td>\n",
       "      <td>None</td>\n",
       "    </tr>\n",
       "    <tr>\n",
       "      <th>97580</th>\n",
       "      <td>150000</td>\n",
       "      <td>flex</td>\n",
       "      <td>None</td>\n",
       "    </tr>\n",
       "  </tbody>\n",
       "</table>\n",
       "<p>779 rows × 3 columns</p>\n",
       "</div>"
      ],
      "text/plain": [
       "           KM    CAMBIO COMBUSTIVEL\n",
       "921     30000    diesel        None\n",
       "1064    11000    diesel        None\n",
       "1341   100000    diesel        None\n",
       "1379   134000      flex        None\n",
       "1816    10500  gasolina        None\n",
       "...       ...       ...         ...\n",
       "95759   89000  gasolina        None\n",
       "96126    8100      flex        None\n",
       "96160   68000    diesel        None\n",
       "97010   20000  gasolina        None\n",
       "97580  150000      flex        None\n",
       "\n",
       "[779 rows x 3 columns]"
      ]
     },
     "execution_count": 20,
     "metadata": {},
     "output_type": "execute_result"
    }
   ],
   "source": [
    "fuel=[ 'diesel', 'flex','gasolina', 'híbrido', 'álcool', 'gásnatural']\n",
    "df_valida_cambio=df_metadados_limpos_2.query(f'CAMBIO.isin({fuel})', engine='python')[['KM', 'CAMBIO', 'COMBUSTIVEL']]\n",
    "df_valida_cambio "
   ]
  },
  {
   "cell_type": "code",
   "execution_count": 21,
   "metadata": {},
   "outputs": [
    {
     "data": {
      "text/plain": [
       "921      1027981470\n",
       "1064     1025923353\n",
       "1341     1025432833\n",
       "1379     1027778125\n",
       "1816     1017013669\n",
       "            ...    \n",
       "95759    1027617365\n",
       "96126    1027518603\n",
       "96160    1025967204\n",
       "97010    1027188328\n",
       "97580    1026984719\n",
       "Name: ID, Length: 779, dtype: int64"
      ]
     },
     "execution_count": 21,
     "metadata": {},
     "output_type": "execute_result"
    }
   ],
   "source": [
    "df_metadados_limpos_3=df_metadados_limpos_2.copy()\n",
    "ids_errados=df_metadados_limpos_3.query(f'CAMBIO.isin({fuel})', engine='python')['ID']\n",
    "ids_errados"
   ]
  },
  {
   "cell_type": "code",
   "execution_count": 22,
   "metadata": {},
   "outputs": [
    {
     "data": {
      "text/html": [
       "<div>\n",
       "<style scoped>\n",
       "    .dataframe tbody tr th:only-of-type {\n",
       "        vertical-align: middle;\n",
       "    }\n",
       "\n",
       "    .dataframe tbody tr th {\n",
       "        vertical-align: top;\n",
       "    }\n",
       "\n",
       "    .dataframe thead th {\n",
       "        text-align: right;\n",
       "    }\n",
       "</style>\n",
       "<table border=\"1\" class=\"dataframe\">\n",
       "  <thead>\n",
       "    <tr style=\"text-align: right;\">\n",
       "      <th></th>\n",
       "      <th>CAMBIO</th>\n",
       "      <th>COMBUSTIVEL</th>\n",
       "    </tr>\n",
       "  </thead>\n",
       "  <tbody>\n",
       "    <tr>\n",
       "      <th>921</th>\n",
       "      <td>diesel</td>\n",
       "      <td>diesel</td>\n",
       "    </tr>\n",
       "    <tr>\n",
       "      <th>1064</th>\n",
       "      <td>diesel</td>\n",
       "      <td>diesel</td>\n",
       "    </tr>\n",
       "    <tr>\n",
       "      <th>1341</th>\n",
       "      <td>diesel</td>\n",
       "      <td>diesel</td>\n",
       "    </tr>\n",
       "    <tr>\n",
       "      <th>1379</th>\n",
       "      <td>flex</td>\n",
       "      <td>flex</td>\n",
       "    </tr>\n",
       "    <tr>\n",
       "      <th>1816</th>\n",
       "      <td>gasolina</td>\n",
       "      <td>gasolina</td>\n",
       "    </tr>\n",
       "    <tr>\n",
       "      <th>...</th>\n",
       "      <td>...</td>\n",
       "      <td>...</td>\n",
       "    </tr>\n",
       "    <tr>\n",
       "      <th>95759</th>\n",
       "      <td>gasolina</td>\n",
       "      <td>gasolina</td>\n",
       "    </tr>\n",
       "    <tr>\n",
       "      <th>96126</th>\n",
       "      <td>flex</td>\n",
       "      <td>flex</td>\n",
       "    </tr>\n",
       "    <tr>\n",
       "      <th>96160</th>\n",
       "      <td>diesel</td>\n",
       "      <td>diesel</td>\n",
       "    </tr>\n",
       "    <tr>\n",
       "      <th>97010</th>\n",
       "      <td>gasolina</td>\n",
       "      <td>gasolina</td>\n",
       "    </tr>\n",
       "    <tr>\n",
       "      <th>97580</th>\n",
       "      <td>flex</td>\n",
       "      <td>flex</td>\n",
       "    </tr>\n",
       "  </tbody>\n",
       "</table>\n",
       "<p>779 rows × 2 columns</p>\n",
       "</div>"
      ],
      "text/plain": [
       "         CAMBIO COMBUSTIVEL\n",
       "921      diesel      diesel\n",
       "1064     diesel      diesel\n",
       "1341     diesel      diesel\n",
       "1379       flex        flex\n",
       "1816   gasolina    gasolina\n",
       "...         ...         ...\n",
       "95759  gasolina    gasolina\n",
       "96126      flex        flex\n",
       "96160    diesel      diesel\n",
       "97010  gasolina    gasolina\n",
       "97580      flex        flex\n",
       "\n",
       "[779 rows x 2 columns]"
      ]
     },
     "execution_count": 22,
     "metadata": {},
     "output_type": "execute_result"
    }
   ],
   "source": [
    "df_metadados_limpos_3.loc[df_metadados_limpos_3.ID.isin(ids_errados),'COMBUSTIVEL'] = df_metadados_limpos_3.query(f\"ID in {ids_errados.tolist()}\")['CAMBIO']\n",
    "df_metadados_limpos_3.query(f'ID in{ids_errados.tolist()}')[['CAMBIO','COMBUSTIVEL']]"
   ]
  },
  {
   "cell_type": "markdown",
   "metadata": {},
   "source": [
    "Deleting wrong values in the cambio column"
   ]
  },
  {
   "cell_type": "code",
   "execution_count": 23,
   "metadata": {},
   "outputs": [
    {
     "data": {
      "text/html": [
       "<div>\n",
       "<style scoped>\n",
       "    .dataframe tbody tr th:only-of-type {\n",
       "        vertical-align: middle;\n",
       "    }\n",
       "\n",
       "    .dataframe tbody tr th {\n",
       "        vertical-align: top;\n",
       "    }\n",
       "\n",
       "    .dataframe thead th {\n",
       "        text-align: right;\n",
       "    }\n",
       "</style>\n",
       "<table border=\"1\" class=\"dataframe\">\n",
       "  <thead>\n",
       "    <tr style=\"text-align: right;\">\n",
       "      <th></th>\n",
       "      <th>CAMBIO</th>\n",
       "      <th>COMBUSTIVEL</th>\n",
       "    </tr>\n",
       "  </thead>\n",
       "  <tbody>\n",
       "    <tr>\n",
       "      <th>921</th>\n",
       "      <td>None</td>\n",
       "      <td>diesel</td>\n",
       "    </tr>\n",
       "    <tr>\n",
       "      <th>1064</th>\n",
       "      <td>None</td>\n",
       "      <td>diesel</td>\n",
       "    </tr>\n",
       "    <tr>\n",
       "      <th>1341</th>\n",
       "      <td>None</td>\n",
       "      <td>diesel</td>\n",
       "    </tr>\n",
       "    <tr>\n",
       "      <th>1379</th>\n",
       "      <td>None</td>\n",
       "      <td>flex</td>\n",
       "    </tr>\n",
       "    <tr>\n",
       "      <th>1816</th>\n",
       "      <td>None</td>\n",
       "      <td>gasolina</td>\n",
       "    </tr>\n",
       "    <tr>\n",
       "      <th>...</th>\n",
       "      <td>...</td>\n",
       "      <td>...</td>\n",
       "    </tr>\n",
       "    <tr>\n",
       "      <th>95759</th>\n",
       "      <td>None</td>\n",
       "      <td>gasolina</td>\n",
       "    </tr>\n",
       "    <tr>\n",
       "      <th>96126</th>\n",
       "      <td>None</td>\n",
       "      <td>flex</td>\n",
       "    </tr>\n",
       "    <tr>\n",
       "      <th>96160</th>\n",
       "      <td>None</td>\n",
       "      <td>diesel</td>\n",
       "    </tr>\n",
       "    <tr>\n",
       "      <th>97010</th>\n",
       "      <td>None</td>\n",
       "      <td>gasolina</td>\n",
       "    </tr>\n",
       "    <tr>\n",
       "      <th>97580</th>\n",
       "      <td>None</td>\n",
       "      <td>flex</td>\n",
       "    </tr>\n",
       "  </tbody>\n",
       "</table>\n",
       "<p>779 rows × 2 columns</p>\n",
       "</div>"
      ],
      "text/plain": [
       "      CAMBIO COMBUSTIVEL\n",
       "921     None      diesel\n",
       "1064    None      diesel\n",
       "1341    None      diesel\n",
       "1379    None        flex\n",
       "1816    None    gasolina\n",
       "...      ...         ...\n",
       "95759   None    gasolina\n",
       "96126   None        flex\n",
       "96160   None      diesel\n",
       "97010   None    gasolina\n",
       "97580   None        flex\n",
       "\n",
       "[779 rows x 2 columns]"
      ]
     },
     "execution_count": 23,
     "metadata": {},
     "output_type": "execute_result"
    }
   ],
   "source": [
    "df_metadados_limpos_3.loc[df_metadados_limpos_3.ID.isin(ids_errados),'CAMBIO'] = None\n",
    "df_metadados_limpos_3.query(f\"ID in {ids_errados.tolist()}\")[['CAMBIO','COMBUSTIVEL']]"
   ]
  },
  {
   "cell_type": "code",
   "execution_count": 24,
   "metadata": {},
   "outputs": [
    {
     "data": {
      "text/plain": [
       "(array(['manual', 'automático', 'semi-automático', None], dtype=object),\n",
       " array(['diesel', 'flex', 'gasolina', 'gásnatural', None, 'álcool',\n",
       "        'híbrido', 'elétrico'], dtype=object))"
      ]
     },
     "execution_count": 24,
     "metadata": {},
     "output_type": "execute_result"
    }
   ],
   "source": [
    "# check unique values of each column\n",
    "(df_metadados_limpos_3.CAMBIO.unique(), df_metadados_limpos_3.COMBUSTIVEL.unique())"
   ]
  },
  {
   "cell_type": "markdown",
   "metadata": {},
   "source": [
    "ANO"
   ]
  },
  {
   "cell_type": "code",
   "execution_count": 25,
   "metadata": {},
   "outputs": [
    {
     "data": {
      "text/plain": [
       "array([nan, 2019.0, 2016.0, 2015.0, 2008.0, 2013.0, 2017.0, 2018.0,\n",
       "       2020.0, 2021.0, 2022.0, 2014.0, 2012.0, 2023.0, 2009.0, 2010.0,\n",
       "       2011.0, 2003.0, 1991.0, 2005.0, 2002.0, 1999.0, 2006.0, 1997.0,\n",
       "       2007.0, 1988.0, 1996.0, 1995.0, 2001.0, 1990.0, 1970.0, 1975.0,\n",
       "       1994.0, 2004.0, 2000.0, 1993.0, 1983.0, 1992.0, 1986.0, 1998.0,\n",
       "       1960.0, 1989.0, 1985.0, 1981.0, 1980.0, 1965.0, 1987.0, 1974.0,\n",
       "       1982.0, 1955.0, 1984.0, '2019', '2015', '2010', '2003', '2013',\n",
       "       '2020', '2011', '2018', '2005', '2017', '2008', '1980', '2009',\n",
       "       '1997', '2014', '2021', '2022', '2012', '2006', '2000', '2016',\n",
       "       '1995', '1998', '1996', '2007', '1988', '2002', '2023', '1960',\n",
       "       '2004', '1999', '2001', '1994', '1993', '1975', '1989', '1991',\n",
       "       '1970', '1986', '1985', '1990', '1992', '1965', '1987', '1981',\n",
       "       '1984', '1950 ou anterior', '1982', 1978.0, '1971', '1983', '1955',\n",
       "       '1973', '1976', '1978', '1974', 1979.0], dtype=object)"
      ]
     },
     "execution_count": 25,
     "metadata": {},
     "output_type": "execute_result"
    }
   ],
   "source": [
    "df_metadados_limpos_3.Ano.unique()"
   ]
  },
  {
   "cell_type": "code",
   "execution_count": 26,
   "metadata": {},
   "outputs": [],
   "source": [
    "df_metadados_limpos_3.Ano = df_metadados_limpos_3.Ano.astype(str).str.replace(' ou anterior', \"\")\n",
    "df_metadados_limpos_3[['KM','VALOR_LIMPO','Ano']] = df_metadados_limpos_3[['KM','VALOR_LIMPO','Ano']].apply(lambda x: x.astype(float))"
   ]
  },
  {
   "cell_type": "code",
   "execution_count": 27,
   "metadata": {},
   "outputs": [],
   "source": [
    "## DELETING LINES WITHOUT VALUES\n",
    "# this type of procedure should not be carried out the first time, but for didactic reasons this procedure will be applied.\n",
    "\n",
    "df_metadados_limpos_3.dropna(inplace=True)\n",
    "len(df_metadados_limpos_3)\n",
    "## SELECIONANDO APENAS AS COLUNAS DE INTERESSE\n",
    "df_metadados_limpos_3[['ID', 'TITULO','UF', 'Ano', 'KM', 'CAMBIO', 'COMBUSTIVEL','VALOR_LIMPO']].to_csv(\"/home/tc0019/DS/car_price_prediction/data/raw/df_metadados_limpos_3.csv\",index=False)"
   ]
  },
  {
   "cell_type": "code",
   "execution_count": 28,
   "metadata": {},
   "outputs": [
    {
     "name": "stdout",
     "output_type": "stream",
     "text": [
      "==== NULL INDEX IN ATTRIBUTES ====\n"
     ]
    },
    {
     "data": {
      "text/plain": [
       "ID                       0.0\n",
       "TITULO                   0.0\n",
       "INFOS                    0.0\n",
       "VALOR                    0.0\n",
       "LOCAL                    0.0\n",
       "DATA_ANUNCIO             0.0\n",
       "LINK                     0.0\n",
       "DATA_COLETA_METADADOS    0.0\n",
       "UF                       0.0\n",
       "Ano                      0.0\n",
       "KM                       0.0\n",
       "CAMBIO                   0.0\n",
       "COMBUSTIVEL              0.0\n",
       "VALOR_LIMPO              0.0\n",
       "dtype: float64"
      ]
     },
     "execution_count": 28,
     "metadata": {},
     "output_type": "execute_result"
    }
   ],
   "source": [
    "print(\"==== NULL INDEX IN ATTRIBUTES ====\")\n",
    "dados = df_metadados_limpos_3.copy()\n",
    "(dados.isnull().sum()/len(dados)*100).sort_values(ascending=False)\n"
   ]
  }
 ],
 "metadata": {
  "kernelspec": {
   "display_name": "Python 3.9.13 ('olx_env')",
   "language": "python",
   "name": "python3"
  },
  "language_info": {
   "codemirror_mode": {
    "name": "ipython",
    "version": 3
   },
   "file_extension": ".py",
   "mimetype": "text/x-python",
   "name": "python",
   "nbconvert_exporter": "python",
   "pygments_lexer": "ipython3",
   "version": "3.9.13"
  },
  "orig_nbformat": 4,
  "vscode": {
   "interpreter": {
    "hash": "7ac0e389a8c0231ddf9046512d8804a63e086ab740c18a8848002b731b7c2a3d"
   }
  }
 },
 "nbformat": 4,
 "nbformat_minor": 2
}
