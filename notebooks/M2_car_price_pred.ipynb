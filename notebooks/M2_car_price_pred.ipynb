{
 "cells": [
  {
   "cell_type": "markdown",
   "metadata": {},
   "source": [
    "# DATA COLLECTION AND PREP"
   ]
  },
  {
   "cell_type": "markdown",
   "metadata": {},
   "source": [
    "# 0.0 IMPORTS"
   ]
  },
  {
   "cell_type": "code",
   "execution_count": 236,
   "metadata": {},
   "outputs": [],
   "source": [
    "from bs4 import BeautifulSoup\n",
    "import requests\n",
    "import time\n",
    "import random\n",
    "import pandas as pd\n",
    "from datetime import datetime\n",
    "import os\n",
    "\n",
    "\n",
    "\n",
    "import warnings\n",
    "warnings.filterwarnings(\"ignore\")"
   ]
  },
  {
   "cell_type": "markdown",
   "metadata": {},
   "source": [
    "## 0.1 Load Data"
   ]
  },
  {
   "cell_type": "code",
   "execution_count": 237,
   "metadata": {},
   "outputs": [
    {
     "name": "stdout",
     "output_type": "stream",
     "text": [
      "ce_metadados.csv\n",
      "go_metadados.csv\n",
      "pb_metadados.csv\n",
      "sp_metadados.csv\n",
      "pr_metadados.csv\n",
      "df_metadados.csv\n",
      "rn_metadados.csv\n",
      "to_metadados.csv\n",
      "mt_metadados.csv\n",
      "mg_metadados.csv\n",
      "ba_metadados.csv\n",
      "rj_metadados.csv\n",
      "pe_metadados.csv\n",
      "ac_metadados.csv\n",
      "rs_metadados.csv\n",
      "ro_metadados.csv\n",
      "pi_metadados.csv\n",
      "am_metadados.csv\n",
      "ms_metadados.csv\n",
      "rr_metadados.csv\n",
      "se_metadados.csv\n",
      "ma_metadados.csv\n",
      "pa_metadados.csv\n",
      "ap_metadados.csv\n",
      "al_metadados.csv\n",
      "sc_metadados.csv\n",
      "es_metadados.csv\n"
     ]
    }
   ],
   "source": [
    "df_metadados=pd.DataFrame()\n",
    "\n",
    "for arquivo in os.listdir('/home/tc0019/DS/car_price_prediction/data/raw/year/'):\n",
    "    print(arquivo)\n",
    "    df_metadados=pd.concat([df_metadados, pd.read_csv('/home/tc0019/DS/car_price_prediction/data/raw/year/'+arquivo)])\n",
    "df_metadados.reset_index(drop=True,inplace=True)\n"
   ]
  },
  {
   "cell_type": "markdown",
   "metadata": {},
   "source": [
    "Checking dataframe"
   ]
  },
  {
   "cell_type": "code",
   "execution_count": 238,
   "metadata": {},
   "outputs": [
    {
     "name": "stdout",
     "output_type": "stream",
     "text": [
      "<class 'pandas.core.frame.DataFrame'>\n",
      "RangeIndex: 122890 entries, 0 to 122889\n",
      "Data columns (total 11 columns):\n",
      " #   Column                 Non-Null Count   Dtype  \n",
      "---  ------                 --------------   -----  \n",
      " 0   ID                     122890 non-null  int64  \n",
      " 1   TITULO                 122890 non-null  object \n",
      " 2   INFOS                  122890 non-null  object \n",
      " 3   VALOR                  117147 non-null  object \n",
      " 4   LOCAL                  122890 non-null  object \n",
      " 5   DATA_ANUNCIO           122890 non-null  object \n",
      " 6   LINK                   122890 non-null  object \n",
      " 7   DATA_COLETA_METADADOS  122890 non-null  object \n",
      " 8   DATA_COLETA_COMPLETA   0 non-null       float64\n",
      " 9   UF                     89371 non-null   object \n",
      " 10  Ano                    104947 non-null  object \n",
      "dtypes: float64(1), int64(1), object(9)\n",
      "memory usage: 10.3+ MB\n"
     ]
    }
   ],
   "source": [
    "df_metadados.info()"
   ]
  },
  {
   "cell_type": "code",
   "execution_count": 239,
   "metadata": {},
   "outputs": [
    {
     "data": {
      "text/plain": [
       "(101000, 11)"
      ]
     },
     "execution_count": 239,
     "metadata": {},
     "output_type": "execute_result"
    }
   ],
   "source": [
    "# drop duplicated ID's\n",
    "df_metadados_limpos=df_metadados.drop_duplicates(subset=['ID']).reset_index(drop=True)\n",
    "df_metadados_limpos.shape"
   ]
  },
  {
   "cell_type": "markdown",
   "metadata": {},
   "source": [
    "# 1.0 Data Description"
   ]
  },
  {
   "cell_type": "markdown",
   "metadata": {},
   "source": [
    "## 1.1 Check NA"
   ]
  },
  {
   "cell_type": "code",
   "execution_count": 240,
   "metadata": {},
   "outputs": [
    {
     "name": "stdout",
     "output_type": "stream",
     "text": [
      "==== INDICE DE NULOS NOS ATRIBUTOS ====\n"
     ]
    },
    {
     "data": {
      "text/plain": [
       "DATA_COLETA_COMPLETA     100.000000\n",
       "Ano                       15.450495\n",
       "UF                        12.785149\n",
       "VALOR                      3.378218\n",
       "ID                         0.000000\n",
       "TITULO                     0.000000\n",
       "INFOS                      0.000000\n",
       "LOCAL                      0.000000\n",
       "DATA_ANUNCIO               0.000000\n",
       "LINK                       0.000000\n",
       "DATA_COLETA_METADADOS      0.000000\n",
       "dtype: float64"
      ]
     },
     "execution_count": 240,
     "metadata": {},
     "output_type": "execute_result"
    }
   ],
   "source": [
    "print(\"==== INDICE DE NULOS NOS ATRIBUTOS ====\")\n",
    "dados = df_metadados_limpos.copy()\n",
    "(dados.isnull().sum()/len(dados)*100).sort_values(ascending = False)"
   ]
  },
  {
   "cell_type": "code",
   "execution_count": 241,
   "metadata": {},
   "outputs": [],
   "source": [
    "# Drop NAN values\n",
    "df_metadados_limpos.dropna(subset=['VALOR'], inplace=True)\n",
    "\n",
    "# Drop Columns with many NAN values\n",
    "df_metadados_limpos.drop(columns=['DATA_COLETA_COMPLETA'], inplace=True)\n",
    "\n",
    "df_metadados_limpos.reset_index(inplace=True,drop=True)"
   ]
  },
  {
   "cell_type": "markdown",
   "metadata": {},
   "source": [
    "## 1.2 PREPARAÇÃO/TRATAMENTO NOS DADOS"
   ]
  },
  {
   "cell_type": "markdown",
   "metadata": {},
   "source": [
    "- Com base no que foi analisado inicialmente nos dados, vamos realizar os seguintes procedimentos para tratar os dados\n",
    "    - Converter todos os atributos para minúsculo\n",
    "    - INFOS: dividir em km, cambio e combustivel em novas colunas. Retirar ponto do KM e converter para float\n",
    "    - VALOR: limpar R$, retirar ponto e converter para float\n",
    "    - LOCAL: excluir coluna (já temos a UF)\n",
    "    - DATA_ANUNCIO: excluir coluna\n",
    "    - LINK: excluir coluna\n",
    "    - DATA_COLETA: excluir coluna.\n",
    "    - UF: corrigir linhas NULAS utilizando a coluna LINK para recuperar a UF"
   ]
  },
  {
   "cell_type": "code",
   "execution_count": 242,
   "metadata": {},
   "outputs": [
    {
     "data": {
      "text/html": [
       "<div>\n",
       "<style scoped>\n",
       "    .dataframe tbody tr th:only-of-type {\n",
       "        vertical-align: middle;\n",
       "    }\n",
       "\n",
       "    .dataframe tbody tr th {\n",
       "        vertical-align: top;\n",
       "    }\n",
       "\n",
       "    .dataframe thead th {\n",
       "        text-align: right;\n",
       "    }\n",
       "</style>\n",
       "<table border=\"1\" class=\"dataframe\">\n",
       "  <thead>\n",
       "    <tr style=\"text-align: right;\">\n",
       "      <th></th>\n",
       "      <th>ID</th>\n",
       "      <th>TITULO</th>\n",
       "      <th>INFOS</th>\n",
       "      <th>VALOR</th>\n",
       "      <th>LOCAL</th>\n",
       "      <th>DATA_ANUNCIO</th>\n",
       "      <th>LINK</th>\n",
       "      <th>DATA_COLETA_METADADOS</th>\n",
       "      <th>UF</th>\n",
       "      <th>Ano</th>\n",
       "    </tr>\n",
       "  </thead>\n",
       "  <tbody>\n",
       "    <tr>\n",
       "      <th>0</th>\n",
       "      <td>1028211161</td>\n",
       "      <td>silverado 99.28 mil</td>\n",
       "      <td>0 km  |  câmbio: manual  |  diesel  |</td>\n",
       "      <td>r$ 28.000</td>\n",
       "      <td>maracanaú, pajuçara - ddd 85</td>\n",
       "      <td>hoje, 21:09</td>\n",
       "      <td>https://ce.olx.com.br/fortaleza-e-regiao/autos...</td>\n",
       "      <td>2022-05-04</td>\n",
       "      <td>ce</td>\n",
       "      <td>NaN</td>\n",
       "    </tr>\n",
       "    <tr>\n",
       "      <th>1</th>\n",
       "      <td>1026520834</td>\n",
       "      <td>nissan kicks sl cvt 2019</td>\n",
       "      <td>32.124 km  |  câmbio: automático  |  flex  |</td>\n",
       "      <td>r$ 103.900</td>\n",
       "      <td>fortaleza, tauape - ddd 85</td>\n",
       "      <td>hoje, 21:08</td>\n",
       "      <td>https://ce.olx.com.br/fortaleza-e-regiao/autos...</td>\n",
       "      <td>2022-05-04</td>\n",
       "      <td>ce</td>\n",
       "      <td>2019.0</td>\n",
       "    </tr>\n",
       "    <tr>\n",
       "      <th>2</th>\n",
       "      <td>1016380244</td>\n",
       "      <td>hrv 2016 lx 1.8 flex!</td>\n",
       "      <td>85.000 km  |  câmbio: automático  |  flex  |</td>\n",
       "      <td>r$ 86.900</td>\n",
       "      <td>fortaleza, salinas - ddd 85</td>\n",
       "      <td>hoje, 21:08</td>\n",
       "      <td>https://ce.olx.com.br/fortaleza-e-regiao/autos...</td>\n",
       "      <td>2022-05-04</td>\n",
       "      <td>ce</td>\n",
       "      <td>2016.0</td>\n",
       "    </tr>\n",
       "    <tr>\n",
       "      <th>3</th>\n",
       "      <td>964674083</td>\n",
       "      <td>hilux sw4 srx 2019 diesel.</td>\n",
       "      <td>62.000 km  |  câmbio: automático  |  diesel  |</td>\n",
       "      <td>r$ 305.900</td>\n",
       "      <td>fortaleza, salinas - ddd 85</td>\n",
       "      <td>hoje, 21:08</td>\n",
       "      <td>https://ce.olx.com.br/fortaleza-e-regiao/autos...</td>\n",
       "      <td>2022-05-04</td>\n",
       "      <td>ce</td>\n",
       "      <td>2019.0</td>\n",
       "    </tr>\n",
       "    <tr>\n",
       "      <th>4</th>\n",
       "      <td>999438981</td>\n",
       "      <td>mitsubishi pajero dakar hpe 3.2 4x4 t.i dies 5...</td>\n",
       "      <td>61.605 km  |  câmbio: automático  |  diesel  |</td>\n",
       "      <td>r$ 169.900</td>\n",
       "      <td>fortaleza, eng luciano cavalcante - ddd 85</td>\n",
       "      <td>hoje, 21:08</td>\n",
       "      <td>https://ce.olx.com.br/fortaleza-e-regiao/autos...</td>\n",
       "      <td>2022-05-04</td>\n",
       "      <td>ce</td>\n",
       "      <td>2015.0</td>\n",
       "    </tr>\n",
       "  </tbody>\n",
       "</table>\n",
       "</div>"
      ],
      "text/plain": [
       "           ID                                             TITULO  \\\n",
       "0  1028211161                                silverado 99.28 mil   \n",
       "1  1026520834                           nissan kicks sl cvt 2019   \n",
       "2  1016380244                             hrv 2016 lx 1.8 flex!    \n",
       "3   964674083                        hilux sw4 srx 2019 diesel.    \n",
       "4   999438981  mitsubishi pajero dakar hpe 3.2 4x4 t.i dies 5...   \n",
       "\n",
       "                                              INFOS       VALOR  \\\n",
       "0           0 km  |  câmbio: manual  |  diesel  |     r$ 28.000   \n",
       "1    32.124 km  |  câmbio: automático  |  flex  |    r$ 103.900   \n",
       "2    85.000 km  |  câmbio: automático  |  flex  |     r$ 86.900   \n",
       "3  62.000 km  |  câmbio: automático  |  diesel  |    r$ 305.900   \n",
       "4  61.605 km  |  câmbio: automático  |  diesel  |    r$ 169.900   \n",
       "\n",
       "                                        LOCAL DATA_ANUNCIO  \\\n",
       "0                maracanaú, pajuçara - ddd 85  hoje, 21:09   \n",
       "1                  fortaleza, tauape - ddd 85  hoje, 21:08   \n",
       "2                 fortaleza, salinas - ddd 85  hoje, 21:08   \n",
       "3                 fortaleza, salinas - ddd 85  hoje, 21:08   \n",
       "4  fortaleza, eng luciano cavalcante - ddd 85  hoje, 21:08   \n",
       "\n",
       "                                                LINK DATA_COLETA_METADADOS  \\\n",
       "0  https://ce.olx.com.br/fortaleza-e-regiao/autos...            2022-05-04   \n",
       "1  https://ce.olx.com.br/fortaleza-e-regiao/autos...            2022-05-04   \n",
       "2  https://ce.olx.com.br/fortaleza-e-regiao/autos...            2022-05-04   \n",
       "3  https://ce.olx.com.br/fortaleza-e-regiao/autos...            2022-05-04   \n",
       "4  https://ce.olx.com.br/fortaleza-e-regiao/autos...            2022-05-04   \n",
       "\n",
       "   UF     Ano  \n",
       "0  ce     NaN  \n",
       "1  ce  2019.0  \n",
       "2  ce  2016.0  \n",
       "3  ce  2019.0  \n",
       "4  ce  2015.0  "
      ]
     },
     "execution_count": 242,
     "metadata": {},
     "output_type": "execute_result"
    }
   ],
   "source": [
    "df_metadados_limpos = df_metadados_limpos.applymap(lambda x: x.lower() if type(x) == str else x)\n",
    "df_metadados_limpos.head()"
   ]
  },
  {
   "cell_type": "markdown",
   "metadata": {},
   "source": [
    "INFOS"
   ]
  },
  {
   "cell_type": "code",
   "execution_count": 243,
   "metadata": {},
   "outputs": [
    {
     "data": {
      "text/plain": [
       "'0 km\\xa0\\xa0|\\xa0\\xa0câmbio: manual\\xa0\\xa0|\\xa0\\xa0diesel\\xa0\\xa0|\\xa0\\xa0'"
      ]
     },
     "execution_count": 243,
     "metadata": {},
     "output_type": "execute_result"
    }
   ],
   "source": [
    "df_metadados_limpos.INFOS[0]"
   ]
  },
  {
   "cell_type": "code",
   "execution_count": 244,
   "metadata": {},
   "outputs": [],
   "source": [
    "## cleaning unwanted characters\n",
    "infos = df_metadados_limpos.INFOS[:].str.replace(\"km|câmbio|:|\\xa0|\\.|\\s+\",\"\",regex=True)"
   ]
  },
  {
   "cell_type": "markdown",
   "metadata": {},
   "source": []
  },
  {
   "cell_type": "markdown",
   "metadata": {},
   "source": []
  },
  {
   "cell_type": "code",
   "execution_count": 245,
   "metadata": {},
   "outputs": [
    {
     "data": {
      "text/plain": [
       "0                [0, manual, diesel]\n",
       "1          [32124, automático, flex]\n",
       "2          [85000, automático, flex]\n",
       "3        [62000, automático, diesel]\n",
       "4        [61605, automático, diesel]\n",
       "                    ...             \n",
       "97583         [145000, manual, flex]\n",
       "97584          [65900, manual, flex]\n",
       "97585              [0, manual, flex]\n",
       "97586      [64052, automático, flex]\n",
       "97587    [47934, automático, diesel]\n",
       "Name: INFOS, Length: 97588, dtype: object"
      ]
     },
     "execution_count": 245,
     "metadata": {},
     "output_type": "execute_result"
    }
   ],
   "source": [
    "infos=infos.str.replace('\\|$', \"\",regex=True)\n",
    "infos=infos.str.split('|')\n",
    "infos\n"
   ]
  },
  {
   "cell_type": "code",
   "execution_count": 246,
   "metadata": {},
   "outputs": [
    {
     "data": {
      "text/plain": [
       "[['0', 'manual', 'diesel'],\n",
       " ['32124', 'automático', 'flex'],\n",
       " ['85000', 'automático', 'flex'],\n",
       " ['62000', 'automático', 'diesel'],\n",
       " ['61605', 'automático', 'diesel'],\n",
       " ['50979', 'automático', 'flex'],\n",
       " ['59000', 'manual', 'flex'],\n",
       " ['95700', 'manual', 'flex'],\n",
       " ['17000', 'automático', 'gasolina'],\n",
       " ['36000', 'manual', 'flex']]"
      ]
     },
     "execution_count": 246,
     "metadata": {},
     "output_type": "execute_result"
    }
   ],
   "source": [
    "lista_infos=[i for i in infos]\n",
    "lista_infos[:10]"
   ]
  },
  {
   "cell_type": "code",
   "execution_count": 247,
   "metadata": {},
   "outputs": [
    {
     "data": {
      "text/html": [
       "<div>\n",
       "<style scoped>\n",
       "    .dataframe tbody tr th:only-of-type {\n",
       "        vertical-align: middle;\n",
       "    }\n",
       "\n",
       "    .dataframe tbody tr th {\n",
       "        vertical-align: top;\n",
       "    }\n",
       "\n",
       "    .dataframe thead th {\n",
       "        text-align: right;\n",
       "    }\n",
       "</style>\n",
       "<table border=\"1\" class=\"dataframe\">\n",
       "  <thead>\n",
       "    <tr style=\"text-align: right;\">\n",
       "      <th></th>\n",
       "      <th>ID</th>\n",
       "      <th>TITULO</th>\n",
       "      <th>INFOS</th>\n",
       "      <th>VALOR</th>\n",
       "      <th>LOCAL</th>\n",
       "      <th>DATA_ANUNCIO</th>\n",
       "      <th>LINK</th>\n",
       "      <th>DATA_COLETA_METADADOS</th>\n",
       "      <th>UF</th>\n",
       "      <th>Ano</th>\n",
       "      <th>KM</th>\n",
       "      <th>CAMBIO</th>\n",
       "      <th>COMBUSTIVEL</th>\n",
       "    </tr>\n",
       "  </thead>\n",
       "  <tbody>\n",
       "    <tr>\n",
       "      <th>0</th>\n",
       "      <td>1028211161</td>\n",
       "      <td>silverado 99.28 mil</td>\n",
       "      <td>0 km  |  câmbio: manual  |  diesel  |</td>\n",
       "      <td>r$ 28.000</td>\n",
       "      <td>maracanaú, pajuçara - ddd 85</td>\n",
       "      <td>hoje, 21:09</td>\n",
       "      <td>https://ce.olx.com.br/fortaleza-e-regiao/autos...</td>\n",
       "      <td>2022-05-04</td>\n",
       "      <td>ce</td>\n",
       "      <td>NaN</td>\n",
       "      <td>0</td>\n",
       "      <td>manual</td>\n",
       "      <td>diesel</td>\n",
       "    </tr>\n",
       "    <tr>\n",
       "      <th>1</th>\n",
       "      <td>1026520834</td>\n",
       "      <td>nissan kicks sl cvt 2019</td>\n",
       "      <td>32.124 km  |  câmbio: automático  |  flex  |</td>\n",
       "      <td>r$ 103.900</td>\n",
       "      <td>fortaleza, tauape - ddd 85</td>\n",
       "      <td>hoje, 21:08</td>\n",
       "      <td>https://ce.olx.com.br/fortaleza-e-regiao/autos...</td>\n",
       "      <td>2022-05-04</td>\n",
       "      <td>ce</td>\n",
       "      <td>2019.0</td>\n",
       "      <td>32124</td>\n",
       "      <td>automático</td>\n",
       "      <td>flex</td>\n",
       "    </tr>\n",
       "    <tr>\n",
       "      <th>2</th>\n",
       "      <td>1016380244</td>\n",
       "      <td>hrv 2016 lx 1.8 flex!</td>\n",
       "      <td>85.000 km  |  câmbio: automático  |  flex  |</td>\n",
       "      <td>r$ 86.900</td>\n",
       "      <td>fortaleza, salinas - ddd 85</td>\n",
       "      <td>hoje, 21:08</td>\n",
       "      <td>https://ce.olx.com.br/fortaleza-e-regiao/autos...</td>\n",
       "      <td>2022-05-04</td>\n",
       "      <td>ce</td>\n",
       "      <td>2016.0</td>\n",
       "      <td>85000</td>\n",
       "      <td>automático</td>\n",
       "      <td>flex</td>\n",
       "    </tr>\n",
       "    <tr>\n",
       "      <th>3</th>\n",
       "      <td>964674083</td>\n",
       "      <td>hilux sw4 srx 2019 diesel.</td>\n",
       "      <td>62.000 km  |  câmbio: automático  |  diesel  |</td>\n",
       "      <td>r$ 305.900</td>\n",
       "      <td>fortaleza, salinas - ddd 85</td>\n",
       "      <td>hoje, 21:08</td>\n",
       "      <td>https://ce.olx.com.br/fortaleza-e-regiao/autos...</td>\n",
       "      <td>2022-05-04</td>\n",
       "      <td>ce</td>\n",
       "      <td>2019.0</td>\n",
       "      <td>62000</td>\n",
       "      <td>automático</td>\n",
       "      <td>diesel</td>\n",
       "    </tr>\n",
       "    <tr>\n",
       "      <th>4</th>\n",
       "      <td>999438981</td>\n",
       "      <td>mitsubishi pajero dakar hpe 3.2 4x4 t.i dies 5...</td>\n",
       "      <td>61.605 km  |  câmbio: automático  |  diesel  |</td>\n",
       "      <td>r$ 169.900</td>\n",
       "      <td>fortaleza, eng luciano cavalcante - ddd 85</td>\n",
       "      <td>hoje, 21:08</td>\n",
       "      <td>https://ce.olx.com.br/fortaleza-e-regiao/autos...</td>\n",
       "      <td>2022-05-04</td>\n",
       "      <td>ce</td>\n",
       "      <td>2015.0</td>\n",
       "      <td>61605</td>\n",
       "      <td>automático</td>\n",
       "      <td>diesel</td>\n",
       "    </tr>\n",
       "  </tbody>\n",
       "</table>\n",
       "</div>"
      ],
      "text/plain": [
       "           ID                                             TITULO  \\\n",
       "0  1028211161                                silverado 99.28 mil   \n",
       "1  1026520834                           nissan kicks sl cvt 2019   \n",
       "2  1016380244                             hrv 2016 lx 1.8 flex!    \n",
       "3   964674083                        hilux sw4 srx 2019 diesel.    \n",
       "4   999438981  mitsubishi pajero dakar hpe 3.2 4x4 t.i dies 5...   \n",
       "\n",
       "                                              INFOS       VALOR  \\\n",
       "0           0 km  |  câmbio: manual  |  diesel  |     r$ 28.000   \n",
       "1    32.124 km  |  câmbio: automático  |  flex  |    r$ 103.900   \n",
       "2    85.000 km  |  câmbio: automático  |  flex  |     r$ 86.900   \n",
       "3  62.000 km  |  câmbio: automático  |  diesel  |    r$ 305.900   \n",
       "4  61.605 km  |  câmbio: automático  |  diesel  |    r$ 169.900   \n",
       "\n",
       "                                        LOCAL DATA_ANUNCIO  \\\n",
       "0                maracanaú, pajuçara - ddd 85  hoje, 21:09   \n",
       "1                  fortaleza, tauape - ddd 85  hoje, 21:08   \n",
       "2                 fortaleza, salinas - ddd 85  hoje, 21:08   \n",
       "3                 fortaleza, salinas - ddd 85  hoje, 21:08   \n",
       "4  fortaleza, eng luciano cavalcante - ddd 85  hoje, 21:08   \n",
       "\n",
       "                                                LINK DATA_COLETA_METADADOS  \\\n",
       "0  https://ce.olx.com.br/fortaleza-e-regiao/autos...            2022-05-04   \n",
       "1  https://ce.olx.com.br/fortaleza-e-regiao/autos...            2022-05-04   \n",
       "2  https://ce.olx.com.br/fortaleza-e-regiao/autos...            2022-05-04   \n",
       "3  https://ce.olx.com.br/fortaleza-e-regiao/autos...            2022-05-04   \n",
       "4  https://ce.olx.com.br/fortaleza-e-regiao/autos...            2022-05-04   \n",
       "\n",
       "   UF     Ano     KM      CAMBIO COMBUSTIVEL  \n",
       "0  ce     NaN      0      manual      diesel  \n",
       "1  ce  2019.0  32124  automático        flex  \n",
       "2  ce  2016.0  85000  automático        flex  \n",
       "3  ce  2019.0  62000  automático      diesel  \n",
       "4  ce  2015.0  61605  automático      diesel  "
      ]
     },
     "execution_count": 247,
     "metadata": {},
     "output_type": "execute_result"
    }
   ],
   "source": [
    "infos_veiculo = pd.DataFrame(lista_infos, columns= ['KM', 'CAMBIO', 'COMBUSTIVEL'])\n",
    "df_metadados_limpos_2 = pd.concat([df_metadados_limpos, infos_veiculo], axis=1)\n",
    "df_metadados_limpos_2.to_csv('/home/tc0019/DS/car_price_prediction/data/raw/metadados_limpos_2.csv')\n",
    "df_metadados_limpos_2.head()"
   ]
  },
  {
   "cell_type": "markdown",
   "metadata": {},
   "source": [
    "VALOR"
   ]
  },
  {
   "cell_type": "code",
   "execution_count": 248,
   "metadata": {},
   "outputs": [
    {
     "data": {
      "text/html": [
       "<div>\n",
       "<style scoped>\n",
       "    .dataframe tbody tr th:only-of-type {\n",
       "        vertical-align: middle;\n",
       "    }\n",
       "\n",
       "    .dataframe tbody tr th {\n",
       "        vertical-align: top;\n",
       "    }\n",
       "\n",
       "    .dataframe thead th {\n",
       "        text-align: right;\n",
       "    }\n",
       "</style>\n",
       "<table border=\"1\" class=\"dataframe\">\n",
       "  <thead>\n",
       "    <tr style=\"text-align: right;\">\n",
       "      <th></th>\n",
       "      <th>ID</th>\n",
       "      <th>TITULO</th>\n",
       "      <th>INFOS</th>\n",
       "      <th>VALOR</th>\n",
       "      <th>LOCAL</th>\n",
       "      <th>DATA_ANUNCIO</th>\n",
       "      <th>LINK</th>\n",
       "      <th>DATA_COLETA_METADADOS</th>\n",
       "      <th>UF</th>\n",
       "      <th>Ano</th>\n",
       "      <th>KM</th>\n",
       "      <th>CAMBIO</th>\n",
       "      <th>COMBUSTIVEL</th>\n",
       "      <th>VALOR_LIMPO</th>\n",
       "    </tr>\n",
       "  </thead>\n",
       "  <tbody>\n",
       "    <tr>\n",
       "      <th>37564</th>\n",
       "      <td>1028072076</td>\n",
       "      <td>honda fit</td>\n",
       "      <td>134.000 km  |  câmbio: manual  |  flex  |</td>\n",
       "      <td>r$ 33.000</td>\n",
       "      <td>uberlândia, tibery - ddd 34</td>\n",
       "      <td>ontem, 14:50</td>\n",
       "      <td>https://mg.olx.com.br/regiao-de-uberlandia-e-u...</td>\n",
       "      <td>2022-05-04</td>\n",
       "      <td>mg</td>\n",
       "      <td>2010.0</td>\n",
       "      <td>134000</td>\n",
       "      <td>manual</td>\n",
       "      <td>flex</td>\n",
       "      <td>33000</td>\n",
       "    </tr>\n",
       "    <tr>\n",
       "      <th>74164</th>\n",
       "      <td>1021990854</td>\n",
       "      <td>vendo hb20 1.6 2014</td>\n",
       "      <td>120 km  |  câmbio: manual  |  flex  |</td>\n",
       "      <td>r$ 44.500</td>\n",
       "      <td>nossa senhora do socorro - ddd 79</td>\n",
       "      <td>18 abr, 21:47</td>\n",
       "      <td>https://se.olx.com.br/sergipe/autos-e-pecas/ca...</td>\n",
       "      <td>2022-05-04</td>\n",
       "      <td>se</td>\n",
       "      <td>2014</td>\n",
       "      <td>120</td>\n",
       "      <td>manual</td>\n",
       "      <td>flex</td>\n",
       "      <td>44500</td>\n",
       "    </tr>\n",
       "    <tr>\n",
       "      <th>75995</th>\n",
       "      <td>1009831183</td>\n",
       "      <td>up 2014/2015 1.0 mpi take up 12v flex 4p manual</td>\n",
       "      <td>87.713 km  |  câmbio: manual  |  flex  |</td>\n",
       "      <td>r$ 41.000</td>\n",
       "      <td>são luís, sacavém - ddd 98</td>\n",
       "      <td>29 abr, 09:34</td>\n",
       "      <td>https://ma.olx.com.br/regiao-de-sao-luis/autos...</td>\n",
       "      <td>2022-05-04</td>\n",
       "      <td>ma</td>\n",
       "      <td>2015</td>\n",
       "      <td>87713</td>\n",
       "      <td>manual</td>\n",
       "      <td>flex</td>\n",
       "      <td>41000</td>\n",
       "    </tr>\n",
       "    <tr>\n",
       "      <th>49302</th>\n",
       "      <td>1027641641</td>\n",
       "      <td>nissan  livina x-gear 1.8 16v automática</td>\n",
       "      <td>1 km  |  câmbio: automático  |  flex  |</td>\n",
       "      <td>r$ 43.900</td>\n",
       "      <td>novo hamburgo, industrial - ddd 51</td>\n",
       "      <td>2 mai, 16:56</td>\n",
       "      <td>https://rs.olx.com.br/regioes-de-porto-alegre-...</td>\n",
       "      <td>2022-05-04</td>\n",
       "      <td>rs</td>\n",
       "      <td>2014</td>\n",
       "      <td>1</td>\n",
       "      <td>automático</td>\n",
       "      <td>flex</td>\n",
       "      <td>43900</td>\n",
       "    </tr>\n",
       "    <tr>\n",
       "      <th>72249</th>\n",
       "      <td>1025591502</td>\n",
       "      <td>fox 2014  *</td>\n",
       "      <td>76.000 km  |  câmbio: manual  |  flex  |</td>\n",
       "      <td>r$ 25.000</td>\n",
       "      <td>aracaju, centro - ddd 79</td>\n",
       "      <td>27 abr, 16:49</td>\n",
       "      <td>https://se.olx.com.br/sergipe/autos-e-pecas/ca...</td>\n",
       "      <td>2022-05-04</td>\n",
       "      <td>se</td>\n",
       "      <td>2014</td>\n",
       "      <td>76000</td>\n",
       "      <td>manual</td>\n",
       "      <td>flex</td>\n",
       "      <td>25000</td>\n",
       "    </tr>\n",
       "  </tbody>\n",
       "</table>\n",
       "</div>"
      ],
      "text/plain": [
       "               ID                                           TITULO  \\\n",
       "37564  1028072076                                       honda fit    \n",
       "74164  1021990854                              vendo hb20 1.6 2014   \n",
       "75995  1009831183  up 2014/2015 1.0 mpi take up 12v flex 4p manual   \n",
       "49302  1027641641        nissan  livina x-gear 1.8 16v automática    \n",
       "72249  1025591502                                      fox 2014  *   \n",
       "\n",
       "                                             INFOS      VALOR  \\\n",
       "37564  134.000 km  |  câmbio: manual  |  flex  |    r$ 33.000   \n",
       "74164      120 km  |  câmbio: manual  |  flex  |    r$ 44.500   \n",
       "75995   87.713 km  |  câmbio: manual  |  flex  |    r$ 41.000   \n",
       "49302    1 km  |  câmbio: automático  |  flex  |    r$ 43.900   \n",
       "72249   76.000 km  |  câmbio: manual  |  flex  |    r$ 25.000   \n",
       "\n",
       "                                    LOCAL   DATA_ANUNCIO  \\\n",
       "37564         uberlândia, tibery - ddd 34   ontem, 14:50   \n",
       "74164   nossa senhora do socorro - ddd 79  18 abr, 21:47   \n",
       "75995          são luís, sacavém - ddd 98  29 abr, 09:34   \n",
       "49302  novo hamburgo, industrial - ddd 51   2 mai, 16:56   \n",
       "72249            aracaju, centro - ddd 79  27 abr, 16:49   \n",
       "\n",
       "                                                    LINK  \\\n",
       "37564  https://mg.olx.com.br/regiao-de-uberlandia-e-u...   \n",
       "74164  https://se.olx.com.br/sergipe/autos-e-pecas/ca...   \n",
       "75995  https://ma.olx.com.br/regiao-de-sao-luis/autos...   \n",
       "49302  https://rs.olx.com.br/regioes-de-porto-alegre-...   \n",
       "72249  https://se.olx.com.br/sergipe/autos-e-pecas/ca...   \n",
       "\n",
       "      DATA_COLETA_METADADOS  UF     Ano      KM      CAMBIO COMBUSTIVEL  \\\n",
       "37564            2022-05-04  mg  2010.0  134000      manual        flex   \n",
       "74164            2022-05-04  se    2014     120      manual        flex   \n",
       "75995            2022-05-04  ma    2015   87713      manual        flex   \n",
       "49302            2022-05-04  rs    2014       1  automático        flex   \n",
       "72249            2022-05-04  se    2014   76000      manual        flex   \n",
       "\n",
       "      VALOR_LIMPO  \n",
       "37564       33000  \n",
       "74164       44500  \n",
       "75995       41000  \n",
       "49302       43900  \n",
       "72249       25000  "
      ]
     },
     "execution_count": 248,
     "metadata": {},
     "output_type": "execute_result"
    }
   ],
   "source": [
    "df_metadados_limpos_2.loc[:, 'VALOR_LIMPO'] = df_metadados_limpos_2.VALOR.str.replace('r\\$|\\.|\\s+', '',regex=True)\n",
    "df_metadados_limpos_2.sample(5)"
   ]
  },
  {
   "cell_type": "markdown",
   "metadata": {},
   "source": [
    "UF"
   ]
  },
  {
   "cell_type": "code",
   "execution_count": 249,
   "metadata": {},
   "outputs": [
    {
     "data": {
      "text/plain": [
       "(21,\n",
       " array(['ce', 'go', 'pb', 'sp', 'pr', 'df', nan, 'to', 'mt', 'mg', 'ba',\n",
       "        'pe', 'rs', 'ro', 'pi', 'ms', 'rr', 'se', 'ma', 'pa', 'sc', 'es'],\n",
       "       dtype=object))"
      ]
     },
     "execution_count": 249,
     "metadata": {},
     "output_type": "execute_result"
    }
   ],
   "source": [
    "(df_metadados_limpos_2.UF.nunique(),df_metadados_limpos_2.UF.unique())"
   ]
  },
  {
   "cell_type": "code",
   "execution_count": 250,
   "metadata": {},
   "outputs": [
    {
     "data": {
      "text/plain": [
       "0    ce\n",
       "1    ce\n",
       "2    ce\n",
       "3    ce\n",
       "4    ce\n",
       "Name: LINK, dtype: object"
      ]
     },
     "execution_count": 250,
     "metadata": {},
     "output_type": "execute_result"
    }
   ],
   "source": [
    "# getting uf from link column\n",
    "df_metadados_limpos_2.LINK[:5].apply(lambda x: x[8:10])"
   ]
  },
  {
   "cell_type": "code",
   "execution_count": 251,
   "metadata": {},
   "outputs": [],
   "source": [
    "# insert column value only with none value\n",
    "ids_uf_none=df_metadados_limpos_2.query('UF.isnull()', engine='python')['ID']\n",
    "ids_uf_none=ids_uf_none.dropna()"
   ]
  },
  {
   "cell_type": "code",
   "execution_count": 252,
   "metadata": {},
   "outputs": [],
   "source": [
    "# replacing NONE with UF\n",
    "df_metadados_limpos_2.loc[df_metadados_limpos_2.ID.isin(ids_uf_none),'UF'] = df_metadados_limpos_2.query(f\"ID in {ids_uf_none.tolist()}\").LINK.apply(lambda x: x[8:10])"
   ]
  },
  {
   "cell_type": "code",
   "execution_count": 253,
   "metadata": {},
   "outputs": [
    {
     "name": "stdout",
     "output_type": "stream",
     "text": [
      "==== INDICE DE NULOS NOS ATRIBUTOS ====\n"
     ]
    },
    {
     "data": {
      "text/plain": [
       "Ano                      15.546993\n",
       "COMBUSTIVEL               4.080420\n",
       "CAMBIO                    1.937738\n",
       "ID                        0.000000\n",
       "TITULO                    0.000000\n",
       "INFOS                     0.000000\n",
       "VALOR                     0.000000\n",
       "LOCAL                     0.000000\n",
       "DATA_ANUNCIO              0.000000\n",
       "LINK                      0.000000\n",
       "DATA_COLETA_METADADOS     0.000000\n",
       "UF                        0.000000\n",
       "KM                        0.000000\n",
       "VALOR_LIMPO               0.000000\n",
       "dtype: float64"
      ]
     },
     "execution_count": 253,
     "metadata": {},
     "output_type": "execute_result"
    }
   ],
   "source": [
    "print(\"==== INDICE DE NULOS NOS ATRIBUTOS ====\")\n",
    "dados = df_metadados_limpos_2.copy()\n",
    "(dados.isnull().sum()/len(dados)*100).sort_values(ascending=False)"
   ]
  },
  {
   "cell_type": "markdown",
   "metadata": {},
   "source": [
    "Validation and adjustments\n",
    "- Just checking some transformations done."
   ]
  },
  {
   "cell_type": "code",
   "execution_count": 254,
   "metadata": {},
   "outputs": [
    {
     "data": {
      "text/plain": [
       "array(['manual', 'automático', 'semi-automático', None, 'diesel', 'flex',\n",
       "       'gasolina', 'híbrido', 'álcool', 'gásnatural'], dtype=object)"
      ]
     },
     "execution_count": 254,
     "metadata": {},
     "output_type": "execute_result"
    }
   ],
   "source": [
    "df_metadados_limpos_2.CAMBIO.unique()"
   ]
  },
  {
   "cell_type": "markdown",
   "metadata": {},
   "source": [
    "Shifting fuel filled in a wrong way in cambio to fuel column"
   ]
  },
  {
   "cell_type": "code",
   "execution_count": 255,
   "metadata": {},
   "outputs": [
    {
     "data": {
      "text/html": [
       "<div>\n",
       "<style scoped>\n",
       "    .dataframe tbody tr th:only-of-type {\n",
       "        vertical-align: middle;\n",
       "    }\n",
       "\n",
       "    .dataframe tbody tr th {\n",
       "        vertical-align: top;\n",
       "    }\n",
       "\n",
       "    .dataframe thead th {\n",
       "        text-align: right;\n",
       "    }\n",
       "</style>\n",
       "<table border=\"1\" class=\"dataframe\">\n",
       "  <thead>\n",
       "    <tr style=\"text-align: right;\">\n",
       "      <th></th>\n",
       "      <th>KM</th>\n",
       "      <th>CAMBIO</th>\n",
       "      <th>COMBUSTIVEL</th>\n",
       "    </tr>\n",
       "  </thead>\n",
       "  <tbody>\n",
       "    <tr>\n",
       "      <th>921</th>\n",
       "      <td>30000</td>\n",
       "      <td>diesel</td>\n",
       "      <td>None</td>\n",
       "    </tr>\n",
       "    <tr>\n",
       "      <th>1064</th>\n",
       "      <td>11000</td>\n",
       "      <td>diesel</td>\n",
       "      <td>None</td>\n",
       "    </tr>\n",
       "    <tr>\n",
       "      <th>1341</th>\n",
       "      <td>100000</td>\n",
       "      <td>diesel</td>\n",
       "      <td>None</td>\n",
       "    </tr>\n",
       "    <tr>\n",
       "      <th>1379</th>\n",
       "      <td>134000</td>\n",
       "      <td>flex</td>\n",
       "      <td>None</td>\n",
       "    </tr>\n",
       "    <tr>\n",
       "      <th>1816</th>\n",
       "      <td>10500</td>\n",
       "      <td>gasolina</td>\n",
       "      <td>None</td>\n",
       "    </tr>\n",
       "    <tr>\n",
       "      <th>...</th>\n",
       "      <td>...</td>\n",
       "      <td>...</td>\n",
       "      <td>...</td>\n",
       "    </tr>\n",
       "    <tr>\n",
       "      <th>95759</th>\n",
       "      <td>89000</td>\n",
       "      <td>gasolina</td>\n",
       "      <td>None</td>\n",
       "    </tr>\n",
       "    <tr>\n",
       "      <th>96126</th>\n",
       "      <td>8100</td>\n",
       "      <td>flex</td>\n",
       "      <td>None</td>\n",
       "    </tr>\n",
       "    <tr>\n",
       "      <th>96160</th>\n",
       "      <td>68000</td>\n",
       "      <td>diesel</td>\n",
       "      <td>None</td>\n",
       "    </tr>\n",
       "    <tr>\n",
       "      <th>97010</th>\n",
       "      <td>20000</td>\n",
       "      <td>gasolina</td>\n",
       "      <td>None</td>\n",
       "    </tr>\n",
       "    <tr>\n",
       "      <th>97580</th>\n",
       "      <td>150000</td>\n",
       "      <td>flex</td>\n",
       "      <td>None</td>\n",
       "    </tr>\n",
       "  </tbody>\n",
       "</table>\n",
       "<p>779 rows × 3 columns</p>\n",
       "</div>"
      ],
      "text/plain": [
       "           KM    CAMBIO COMBUSTIVEL\n",
       "921     30000    diesel        None\n",
       "1064    11000    diesel        None\n",
       "1341   100000    diesel        None\n",
       "1379   134000      flex        None\n",
       "1816    10500  gasolina        None\n",
       "...       ...       ...         ...\n",
       "95759   89000  gasolina        None\n",
       "96126    8100      flex        None\n",
       "96160   68000    diesel        None\n",
       "97010   20000  gasolina        None\n",
       "97580  150000      flex        None\n",
       "\n",
       "[779 rows x 3 columns]"
      ]
     },
     "execution_count": 255,
     "metadata": {},
     "output_type": "execute_result"
    }
   ],
   "source": [
    "fuel=[ 'diesel', 'flex','gasolina', 'híbrido', 'álcool', 'gásnatural']\n",
    "df_valida_cambio=df_metadados_limpos_2.query(f'CAMBIO.isin({fuel})', engine='python')[['KM', 'CAMBIO', 'COMBUSTIVEL']]\n",
    "df_valida_cambio "
   ]
  },
  {
   "cell_type": "code",
   "execution_count": 256,
   "metadata": {},
   "outputs": [
    {
     "data": {
      "text/plain": [
       "921      1027981470\n",
       "1064     1025923353\n",
       "1341     1025432833\n",
       "1379     1027778125\n",
       "1816     1017013669\n",
       "            ...    \n",
       "95759    1027617365\n",
       "96126    1027518603\n",
       "96160    1025967204\n",
       "97010    1027188328\n",
       "97580    1026984719\n",
       "Name: ID, Length: 779, dtype: int64"
      ]
     },
     "execution_count": 256,
     "metadata": {},
     "output_type": "execute_result"
    }
   ],
   "source": [
    "df_metadados_limpos_3=df_metadados_limpos_2.copy()\n",
    "ids_errados=df_metadados_limpos_3.query(f'CAMBIO.isin({fuel})', engine='python')['ID']\n",
    "ids_errados"
   ]
  },
  {
   "cell_type": "code",
   "execution_count": 257,
   "metadata": {},
   "outputs": [
    {
     "data": {
      "text/html": [
       "<div>\n",
       "<style scoped>\n",
       "    .dataframe tbody tr th:only-of-type {\n",
       "        vertical-align: middle;\n",
       "    }\n",
       "\n",
       "    .dataframe tbody tr th {\n",
       "        vertical-align: top;\n",
       "    }\n",
       "\n",
       "    .dataframe thead th {\n",
       "        text-align: right;\n",
       "    }\n",
       "</style>\n",
       "<table border=\"1\" class=\"dataframe\">\n",
       "  <thead>\n",
       "    <tr style=\"text-align: right;\">\n",
       "      <th></th>\n",
       "      <th>CAMBIO</th>\n",
       "      <th>COMBUSTIVEL</th>\n",
       "    </tr>\n",
       "  </thead>\n",
       "  <tbody>\n",
       "    <tr>\n",
       "      <th>921</th>\n",
       "      <td>diesel</td>\n",
       "      <td>diesel</td>\n",
       "    </tr>\n",
       "    <tr>\n",
       "      <th>1064</th>\n",
       "      <td>diesel</td>\n",
       "      <td>diesel</td>\n",
       "    </tr>\n",
       "    <tr>\n",
       "      <th>1341</th>\n",
       "      <td>diesel</td>\n",
       "      <td>diesel</td>\n",
       "    </tr>\n",
       "    <tr>\n",
       "      <th>1379</th>\n",
       "      <td>flex</td>\n",
       "      <td>flex</td>\n",
       "    </tr>\n",
       "    <tr>\n",
       "      <th>1816</th>\n",
       "      <td>gasolina</td>\n",
       "      <td>gasolina</td>\n",
       "    </tr>\n",
       "    <tr>\n",
       "      <th>...</th>\n",
       "      <td>...</td>\n",
       "      <td>...</td>\n",
       "    </tr>\n",
       "    <tr>\n",
       "      <th>95759</th>\n",
       "      <td>gasolina</td>\n",
       "      <td>gasolina</td>\n",
       "    </tr>\n",
       "    <tr>\n",
       "      <th>96126</th>\n",
       "      <td>flex</td>\n",
       "      <td>flex</td>\n",
       "    </tr>\n",
       "    <tr>\n",
       "      <th>96160</th>\n",
       "      <td>diesel</td>\n",
       "      <td>diesel</td>\n",
       "    </tr>\n",
       "    <tr>\n",
       "      <th>97010</th>\n",
       "      <td>gasolina</td>\n",
       "      <td>gasolina</td>\n",
       "    </tr>\n",
       "    <tr>\n",
       "      <th>97580</th>\n",
       "      <td>flex</td>\n",
       "      <td>flex</td>\n",
       "    </tr>\n",
       "  </tbody>\n",
       "</table>\n",
       "<p>779 rows × 2 columns</p>\n",
       "</div>"
      ],
      "text/plain": [
       "         CAMBIO COMBUSTIVEL\n",
       "921      diesel      diesel\n",
       "1064     diesel      diesel\n",
       "1341     diesel      diesel\n",
       "1379       flex        flex\n",
       "1816   gasolina    gasolina\n",
       "...         ...         ...\n",
       "95759  gasolina    gasolina\n",
       "96126      flex        flex\n",
       "96160    diesel      diesel\n",
       "97010  gasolina    gasolina\n",
       "97580      flex        flex\n",
       "\n",
       "[779 rows x 2 columns]"
      ]
     },
     "execution_count": 257,
     "metadata": {},
     "output_type": "execute_result"
    }
   ],
   "source": [
    "df_metadados_limpos_3.loc[df_metadados_limpos_3.ID.isin(ids_errados),'COMBUSTIVEL'] = df_metadados_limpos_3.query(f\"ID in {ids_errados.tolist()}\")['CAMBIO']\n",
    "df_metadados_limpos_3.query(f'ID in{ids_errados.tolist()}')[['CAMBIO','COMBUSTIVEL']]"
   ]
  },
  {
   "cell_type": "markdown",
   "metadata": {},
   "source": [
    "Deleting wrong values in the cambio column"
   ]
  },
  {
   "cell_type": "code",
   "execution_count": 258,
   "metadata": {},
   "outputs": [
    {
     "data": {
      "text/html": [
       "<div>\n",
       "<style scoped>\n",
       "    .dataframe tbody tr th:only-of-type {\n",
       "        vertical-align: middle;\n",
       "    }\n",
       "\n",
       "    .dataframe tbody tr th {\n",
       "        vertical-align: top;\n",
       "    }\n",
       "\n",
       "    .dataframe thead th {\n",
       "        text-align: right;\n",
       "    }\n",
       "</style>\n",
       "<table border=\"1\" class=\"dataframe\">\n",
       "  <thead>\n",
       "    <tr style=\"text-align: right;\">\n",
       "      <th></th>\n",
       "      <th>CAMBIO</th>\n",
       "      <th>COMBUSTIVEL</th>\n",
       "    </tr>\n",
       "  </thead>\n",
       "  <tbody>\n",
       "    <tr>\n",
       "      <th>921</th>\n",
       "      <td>None</td>\n",
       "      <td>diesel</td>\n",
       "    </tr>\n",
       "    <tr>\n",
       "      <th>1064</th>\n",
       "      <td>None</td>\n",
       "      <td>diesel</td>\n",
       "    </tr>\n",
       "    <tr>\n",
       "      <th>1341</th>\n",
       "      <td>None</td>\n",
       "      <td>diesel</td>\n",
       "    </tr>\n",
       "    <tr>\n",
       "      <th>1379</th>\n",
       "      <td>None</td>\n",
       "      <td>flex</td>\n",
       "    </tr>\n",
       "    <tr>\n",
       "      <th>1816</th>\n",
       "      <td>None</td>\n",
       "      <td>gasolina</td>\n",
       "    </tr>\n",
       "    <tr>\n",
       "      <th>...</th>\n",
       "      <td>...</td>\n",
       "      <td>...</td>\n",
       "    </tr>\n",
       "    <tr>\n",
       "      <th>95759</th>\n",
       "      <td>None</td>\n",
       "      <td>gasolina</td>\n",
       "    </tr>\n",
       "    <tr>\n",
       "      <th>96126</th>\n",
       "      <td>None</td>\n",
       "      <td>flex</td>\n",
       "    </tr>\n",
       "    <tr>\n",
       "      <th>96160</th>\n",
       "      <td>None</td>\n",
       "      <td>diesel</td>\n",
       "    </tr>\n",
       "    <tr>\n",
       "      <th>97010</th>\n",
       "      <td>None</td>\n",
       "      <td>gasolina</td>\n",
       "    </tr>\n",
       "    <tr>\n",
       "      <th>97580</th>\n",
       "      <td>None</td>\n",
       "      <td>flex</td>\n",
       "    </tr>\n",
       "  </tbody>\n",
       "</table>\n",
       "<p>779 rows × 2 columns</p>\n",
       "</div>"
      ],
      "text/plain": [
       "      CAMBIO COMBUSTIVEL\n",
       "921     None      diesel\n",
       "1064    None      diesel\n",
       "1341    None      diesel\n",
       "1379    None        flex\n",
       "1816    None    gasolina\n",
       "...      ...         ...\n",
       "95759   None    gasolina\n",
       "96126   None        flex\n",
       "96160   None      diesel\n",
       "97010   None    gasolina\n",
       "97580   None        flex\n",
       "\n",
       "[779 rows x 2 columns]"
      ]
     },
     "execution_count": 258,
     "metadata": {},
     "output_type": "execute_result"
    }
   ],
   "source": [
    "df_metadados_limpos_3.loc[df_metadados_limpos_3.ID.isin(ids_errados),'CAMBIO'] = None\n",
    "df_metadados_limpos_3.query(f\"ID in {ids_errados.tolist()}\")[['CAMBIO','COMBUSTIVEL']]"
   ]
  },
  {
   "cell_type": "code",
   "execution_count": 259,
   "metadata": {},
   "outputs": [
    {
     "data": {
      "text/plain": [
       "(array(['manual', 'automático', 'semi-automático', None], dtype=object),\n",
       " array(['diesel', 'flex', 'gasolina', 'gásnatural', None, 'álcool',\n",
       "        'híbrido', 'elétrico'], dtype=object))"
      ]
     },
     "execution_count": 259,
     "metadata": {},
     "output_type": "execute_result"
    }
   ],
   "source": [
    "# check unique values of each column\n",
    "(df_metadados_limpos_3.CAMBIO.unique(), df_metadados_limpos_3.COMBUSTIVEL.unique())"
   ]
  },
  {
   "cell_type": "markdown",
   "metadata": {},
   "source": [
    "ANO"
   ]
  },
  {
   "cell_type": "code",
   "execution_count": 260,
   "metadata": {},
   "outputs": [
    {
     "data": {
      "text/plain": [
       "array([nan, 2019.0, 2016.0, 2015.0, 2008.0, 2013.0, 2017.0, 2018.0,\n",
       "       2020.0, 2021.0, 2022.0, 2014.0, 2012.0, 2023.0, 2009.0, 2010.0,\n",
       "       2011.0, 2003.0, 1991.0, 2005.0, 2002.0, 1999.0, 2006.0, 1997.0,\n",
       "       2007.0, 1988.0, 1996.0, 1995.0, 2001.0, 1990.0, 1970.0, 1975.0,\n",
       "       1994.0, 2004.0, 2000.0, 1993.0, 1983.0, 1992.0, 1986.0, 1998.0,\n",
       "       1960.0, 1989.0, 1985.0, 1981.0, 1980.0, 1965.0, 1987.0, 1974.0,\n",
       "       1982.0, 1955.0, 1984.0, '2019', '2015', '2010', '2003', '2013',\n",
       "       '2020', '2011', '2018', '2005', '2017', '2008', '1980', '2009',\n",
       "       '1997', '2014', '2021', '2022', '2012', '2006', '2000', '2016',\n",
       "       '1995', '1998', '1996', '2007', '1988', '2002', '2023', '1960',\n",
       "       '2004', '1999', '2001', '1994', '1993', '1975', '1989', '1991',\n",
       "       '1970', '1986', '1985', '1990', '1992', '1965', '1987', '1981',\n",
       "       '1984', '1950 ou anterior', '1982', 1978.0, '1971', '1983', '1955',\n",
       "       '1973', '1976', '1978', '1974', 1979.0], dtype=object)"
      ]
     },
     "execution_count": 260,
     "metadata": {},
     "output_type": "execute_result"
    }
   ],
   "source": [
    "df_metadados_limpos_3.Ano.unique()"
   ]
  },
  {
   "cell_type": "code",
   "execution_count": 261,
   "metadata": {},
   "outputs": [],
   "source": [
    "df_metadados_limpos_3.Ano = df_metadados_limpos_3.Ano.astype(str).str.replace(' ou anterior', \"\")\n",
    "df_metadados_limpos_3[['KM','VALOR_LIMPO','Ano']] = df_metadados_limpos_3[['KM','VALOR_LIMPO','Ano']].apply(lambda x: x.astype(float))"
   ]
  },
  {
   "cell_type": "code",
   "execution_count": 262,
   "metadata": {},
   "outputs": [],
   "source": [
    "## DELETING LINES WITHOUT VALUES\n",
    "# this type of procedure should not be carried out the first time, but for didactic reasons this procedure will be applied.\n",
    "\n",
    "df_metadados_limpos_3.dropna(inplace=True)\n",
    "len(df_metadados_limpos_3)\n",
    "## SELECIONANDO APENAS AS COLUNAS DE INTERESSE\n",
    "df_metadados_limpos_3[['ID', 'TITULO','UF', 'Ano', 'KM', 'CAMBIO', 'COMBUSTIVEL','VALOR_LIMPO']].to_csv(\"df_metadados_limpos_3.csv\",index=False)"
   ]
  },
  {
   "cell_type": "code",
   "execution_count": 263,
   "metadata": {},
   "outputs": [
    {
     "name": "stdout",
     "output_type": "stream",
     "text": [
      "==== NULL INDEX IN ATTRIBUTES ====\n"
     ]
    },
    {
     "data": {
      "text/plain": [
       "ID                       0.0\n",
       "TITULO                   0.0\n",
       "INFOS                    0.0\n",
       "VALOR                    0.0\n",
       "LOCAL                    0.0\n",
       "DATA_ANUNCIO             0.0\n",
       "LINK                     0.0\n",
       "DATA_COLETA_METADADOS    0.0\n",
       "UF                       0.0\n",
       "Ano                      0.0\n",
       "KM                       0.0\n",
       "CAMBIO                   0.0\n",
       "COMBUSTIVEL              0.0\n",
       "VALOR_LIMPO              0.0\n",
       "dtype: float64"
      ]
     },
     "execution_count": 263,
     "metadata": {},
     "output_type": "execute_result"
    }
   ],
   "source": [
    "print(\"==== NULL INDEX IN ATTRIBUTES ====\")\n",
    "dados = df_metadados_limpos_3.copy()\n",
    "(dados.isnull().sum()/len(dados)*100).sort_values(ascending=False)\n"
   ]
  }
 ],
 "metadata": {
  "kernelspec": {
   "display_name": "Python 3.9.13 ('olx_env')",
   "language": "python",
   "name": "python3"
  },
  "language_info": {
   "codemirror_mode": {
    "name": "ipython",
    "version": 3
   },
   "file_extension": ".py",
   "mimetype": "text/x-python",
   "name": "python",
   "nbconvert_exporter": "python",
   "pygments_lexer": "ipython3",
   "version": "3.9.13"
  },
  "orig_nbformat": 4,
  "vscode": {
   "interpreter": {
    "hash": "7ac0e389a8c0231ddf9046512d8804a63e086ab740c18a8848002b731b7c2a3d"
   }
  }
 },
 "nbformat": 4,
 "nbformat_minor": 2
}
