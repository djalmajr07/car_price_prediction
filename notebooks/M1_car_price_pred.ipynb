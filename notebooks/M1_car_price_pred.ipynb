{
 "cells": [
  {
   "cell_type": "markdown",
   "metadata": {},
   "source": [
    "# WEB SCRAPPING"
   ]
  },
  {
   "cell_type": "markdown",
   "metadata": {},
   "source": [
    "# 0.0 IMPORTS"
   ]
  },
  {
   "cell_type": "code",
   "execution_count": 50,
   "metadata": {},
   "outputs": [],
   "source": [
    "from bs4 import BeautifulSoup\n",
    "import requests\n",
    "import time\n",
    "import random\n",
    "import pandas as pd\n",
    "from datetime import datetime\n",
    "import os\n",
    "import numpy as np\n",
    "\n",
    "\n",
    "import warnings\n",
    "warnings.filterwarnings(\"ignore\")"
   ]
  },
  {
   "cell_type": "markdown",
   "metadata": {},
   "source": [
    "## 0.1 Get Data From OLX"
   ]
  },
  {
   "cell_type": "markdown",
   "metadata": {},
   "source": [
    "### Page Extracrion"
   ]
  },
  {
   "cell_type": "code",
   "execution_count": 3,
   "metadata": {},
   "outputs": [
    {
     "name": "stdout",
     "output_type": "stream",
     "text": [
      "<Response [200]>\n"
     ]
    }
   ],
   "source": [
    "# set page\n",
    "url_inicial = 'https://www.olx.com.br/autos-e-pecas/carros-vans-e-utilitarios?o=1'\n",
    "\n",
    "# set user agent to authenticate the page\n",
    "headers = {'User-Agent':'Chrome/27.0.1453.93'}\n",
    "\n",
    "# checking url\n",
    "pagina_inicial=requests.get(url_inicial, headers=headers)\n",
    "print(pagina_inicial)"
   ]
  },
  {
   "cell_type": "code",
   "execution_count": 4,
   "metadata": {},
   "outputs": [
    {
     "name": "stdout",
     "output_type": "stream",
     "text": [
      "<class 'bs4.BeautifulSoup'>\n"
     ]
    }
   ],
   "source": [
    "# parsing bytes to bs4\n",
    "pagina_inicial=BeautifulSoup(pagina_inicial.content,'html.parser')\n",
    "print(type(pagina_inicial))\n"
   ]
  },
  {
   "cell_type": "code",
   "execution_count": 5,
   "metadata": {},
   "outputs": [],
   "source": [
    "# print formated page content\n",
    "# print(pagina_inicial.prettify())"
   ]
  },
  {
   "cell_type": "markdown",
   "metadata": {},
   "source": [
    "### Page Elements Extraction"
   ]
  },
  {
   "cell_type": "markdown",
   "metadata": {},
   "source": [
    "### Accessing Page Elements\n",
    "- the function **find_all** access all elements available with the value informed(class, tag, name or any selector)\n",
    "- the output is a list\n",
    "    - take care when another elements have the same id, in this case *class*\n",
    "    - OLX page have 50 metadata of ads, there are others that use different classes"
   ]
  },
  {
   "cell_type": "code",
   "execution_count": 6,
   "metadata": {},
   "outputs": [],
   "source": [
    "# ADS extraction\n",
    "anuncios=pagina_inicial.find_all(class_='sc-1fcmfeb-1 kntIvV')\n",
    "# anuncios[:5]\n",
    "# h3us20-6 fetGj"
   ]
  },
  {
   "cell_type": "code",
   "execution_count": 1,
   "metadata": {},
   "outputs": [],
   "source": [
    "# convert to text\n",
    "# [x.get_text() for x in anuncios][:5]"
   ]
  },
  {
   "cell_type": "code",
   "execution_count": 8,
   "metadata": {},
   "outputs": [
    {
     "data": {
      "text/plain": [
       "['Land Rover Range Sport HSE 5P',\n",
       " 'VOLKSWAGEN NIVUS HIGHLINE 2021 ',\n",
       " 'Volkswagen Nivus Highline 2021 C/ 17.000 Km',\n",
       " 'Fiesta Sedan 2009/10',\n",
       " 'Citroen C3 Picasso Glx M 2012']"
      ]
     },
     "execution_count": 8,
     "metadata": {},
     "output_type": "execute_result"
    }
   ],
   "source": [
    "# Title Extraction\n",
    "titulos=pagina_inicial.find_all(class_='kgl1mq-0 iYdPim sc-bdVaJa daxpJj')\n",
    "titulos=[x.get_text() for x in titulos]\n",
    "titulos[:5]"
   ]
  },
  {
   "cell_type": "code",
   "execution_count": 9,
   "metadata": {},
   "outputs": [],
   "source": [
    "# titulo=[x.get_text() for x in titulos]\n",
    "# titulos[:5]"
   ]
  },
  {
   "cell_type": "markdown",
   "metadata": {},
   "source": [
    "### COMPLETE EXTRACTION"
   ]
  },
  {
   "cell_type": "code",
   "execution_count": 10,
   "metadata": {},
   "outputs": [],
   "source": [
    "# ID\n",
    "id=pagina_inicial.find_all(class_='sc-12rk7z2-1') \n",
    "ids=[x.get_attribute_list('data-lurker_list_id')[0] for x in id]\n",
    "\n",
    "# LINK\n",
    "tags_links=pagina_inicial.find_all(name='a', class_='sc-12rk7z2-1')\n",
    "links=[x.get_attribute_list('href')[0] for x in tags_links]\n",
    "\n",
    "# TITLE\n",
    "titulo=pagina_inicial.find_all(class_='kgl1mq-0 iYdPim sc-bdVaJa daxpJj')\n",
    "titulo=[x.get_text() for x in titulo]\n",
    "\n",
    "# INFOS\n",
    "infos=pagina_inicial.find_all(class_='sc-1ftm7qz-2 ilPFvN')\n",
    "infos=[x.get_text() for x in infos]\n",
    "\n",
    "# VALUES\n",
    "valor=pagina_inicial.find_all(class_='m7nrfa-0')\n",
    "valor=[x.get_text() for x in valor]\n",
    "\n",
    "# LOCATION\n",
    "local=pagina_inicial.find_all(class_='sc-1c3ysll-0')\n",
    "local=[x.get_text() for x in local]\n",
    "\n",
    "# DATA\n",
    "data=pagina_inicial.find_all(class_='sc-11h4wdr-0')\n",
    "data=[x.get_text() for x in data]"
   ]
  },
  {
   "cell_type": "code",
   "execution_count": 11,
   "metadata": {},
   "outputs": [
    {
     "data": {
      "text/plain": [
       "(50, 50, 30, 50, 50, 50, 50)"
      ]
     },
     "execution_count": 11,
     "metadata": {},
     "output_type": "execute_result"
    }
   ],
   "source": [
    "# Verifying how many elements each class is storing\n",
    "len(ids), len(links), len(titulo), len(infos), len(valor), len(local), len(data)"
   ]
  },
  {
   "cell_type": "code",
   "execution_count": 12,
   "metadata": {},
   "outputs": [
    {
     "data": {
      "text/plain": [
       "('1024549891',\n",
       " 'https://mg.olx.com.br/regiao-de-uberlandia-e-uberaba/autos-e-pecas/carros-vans-e-utilitarios/land-rover-range-sport-hse-5p-1024549891',\n",
       " 'Land Rover Range Sport HSE 5P',\n",
       " '62.700 km\\xa0\\xa0|\\xa0\\xa0Câmbio: Automático\\xa0\\xa0|\\xa0\\xa0Diesel\\xa0\\xa0|\\xa0\\xa0',\n",
       " 'R$ 529.900',\n",
       " 'Uberlândia -  MG',\n",
       " 'Hoje, 11:32')"
      ]
     },
     "execution_count": 12,
     "metadata": {},
     "output_type": "execute_result"
    }
   ],
   "source": [
    "# Verifying ADS\n",
    "i=0\n",
    "ids[i], links[i], titulo[i], infos[i], valor[i], local[i], data[i]"
   ]
  },
  {
   "cell_type": "markdown",
   "metadata": {},
   "source": [
    "### Converting into Dataframe"
   ]
  },
  {
   "cell_type": "code",
   "execution_count": 13,
   "metadata": {},
   "outputs": [],
   "source": [
    "df = pd.DataFrame(list(zip(ids, titulo, infos, valor, local, data, links)),\n",
    "                  columns = ['ID', 'TITULO', 'INFOS', 'VALOR', 'LOCAL', 'DATA_ANUNCIO','LINK'])\n",
    "\n",
    "dataHora=datetime.now().strftime(\"%Y%m%d%H%M\")\n",
    "df.to_csv(f'/home/tc0019/DS/car_price_prediction/data/raw/metadados_olx_{dataHora}.csv', index=False)"
   ]
  },
  {
   "cell_type": "markdown",
   "metadata": {},
   "source": [
    "Final DF"
   ]
  },
  {
   "cell_type": "code",
   "execution_count": 14,
   "metadata": {},
   "outputs": [
    {
     "name": "stdout",
     "output_type": "stream",
     "text": [
      "==== COLETA INICIADA ====\n",
      "1 - <Response [200]>\n",
      "50 50 30 50 50 50 50\n",
      "==== SALVANDO ====/n\n",
      "2 - <Response [200]>\n",
      "50 50 46 50 50 50 50\n",
      "==== SALVANDO ====/n\n",
      "3 - <Response [200]>\n",
      "50 50 40 50 50 50 50\n",
      "==== SALVANDO ====/n\n",
      "4 - <Response [200]>\n",
      "50 50 40 50 50 50 50\n",
      "==== SALVANDO ====/n\n",
      "==== FINALIZADO ====\n"
     ]
    }
   ],
   "source": [
    "df_metadados=pd.DataFrame()\n",
    "data_coleta=datetime.now().date()\n",
    "\n",
    "print(\"==== COLETA INICIADA ====\")\n",
    "for pagina in range(1,5):\n",
    "    print(f'{pagina}', end=' - ')\n",
    "\n",
    "\n",
    "\n",
    "\n",
    "    # set pagination\n",
    "    url_inicial = f'https://www.olx.com.br/autos-e-pecas/carros-vans-e-utilitarios?o={pagina}'\n",
    "    # checking url\n",
    "    pagina_inicial=requests.get(url_inicial, headers=headers)\n",
    "    print(pagina_inicial)\n",
    "\n",
    "    # parsing bytes to bs4 so its possible to use all classes and methods\n",
    "    pagina_inicial=BeautifulSoup(pagina_inicial.content,'html.parser')\n",
    "\n",
    "    # ID\n",
    "    id=pagina_inicial.find_all(class_='sc-12rk7z2-1') \n",
    "    ids=[x.get_attribute_list('data-lurker_list_id')[0] for x in id]\n",
    "\n",
    "    # LINK\n",
    "    tags_links=pagina_inicial.find_all(name='a', class_='sc-12rk7z2-1')\n",
    "    links=[x.get_attribute_list('href')[0] for x in tags_links]\n",
    "\n",
    "    # TITLE\n",
    "    titulo=pagina_inicial.find_all(class_='kgl1mq-0 iYdPim sc-bdVaJa daxpJj')\n",
    "    titulo=[x.get_text() for x in titulo]\n",
    "\n",
    "    # INFOS\n",
    "    infos=pagina_inicial.find_all(class_='sc-1ftm7qz-2 ilPFvN')\n",
    "    infos=[x.get_text() for x in infos]\n",
    "\n",
    "    # VALUES\n",
    "    valor=pagina_inicial.find_all(class_='m7nrfa-0')\n",
    "    valor=[x.get_text() for x in valor]\n",
    "\n",
    "    # LOCATION\n",
    "    local=pagina_inicial.find_all(class_='sc-1c3ysll-0')\n",
    "    local=[x.get_text() for x in local]\n",
    "\n",
    "    # DATA\n",
    "    data=pagina_inicial.find_all(class_='sc-11h4wdr-0')\n",
    "    data=[x.get_text() for x in data]\n",
    "\n",
    "    ## verifications\n",
    "    print(len(ids), len(links), len(titulo), len(infos), len(valor), len(local), len(data))\n",
    "\n",
    "    # temp df\n",
    "    df = pd.DataFrame(list(zip(ids, titulo, infos, valor, local, data, links)),\n",
    "                  columns = ['ID', 'TITULO', 'INFOS', 'VALOR', 'LOCAL', 'DATA_ANUNCIO','LINK'])\n",
    "\n",
    "    # check data collection\n",
    "    if len(df)>0:\n",
    "        # insert in df_raw\n",
    "        df.loc[:, 'DATA_COLETA_METADADOS']=data_coleta\n",
    "        df_metadados=pd.concat([df_metadados,df])\n",
    "    print('==== SALVANDO ====')\n",
    "    dataHora=datetime.now().strftime(\"%Y%m%d%H%M\")\n",
    "    df_metadados.to_csv(f'/home/tc0019/DS/car_price_prediction/data/raw/metadados_olx_cars_{dataHora}.csv', index=False)\n",
    "\n",
    "    # To not supercharge the server, create a space btw requests 3 to 5 seconds works just fine\n",
    "    time.sleep(random.randint(1,5))\n",
    "\n",
    "print('==== FINALIZADO ====')\n",
    "\n"
   ]
  },
  {
   "cell_type": "markdown",
   "metadata": {},
   "source": [
    "## 0.2 Load Data"
   ]
  },
  {
   "cell_type": "code",
   "execution_count": 62,
   "metadata": {},
   "outputs": [
    {
     "name": "stdout",
     "output_type": "stream",
     "text": [
      "<class 'pandas.core.frame.DataFrame'>\n",
      "RangeIndex: 122890 entries, 0 to 122889\n",
      "Data columns (total 11 columns):\n",
      " #   Column                 Non-Null Count   Dtype  \n",
      "---  ------                 --------------   -----  \n",
      " 0   ID                     122890 non-null  int64  \n",
      " 1   TITULO                 122890 non-null  object \n",
      " 2   INFOS                  122890 non-null  object \n",
      " 3   VALOR                  117147 non-null  object \n",
      " 4   LOCAL                  122890 non-null  object \n",
      " 5   DATA_ANUNCIO           122890 non-null  object \n",
      " 6   LINK                   122890 non-null  object \n",
      " 7   DATA_COLETA_METADADOS  122890 non-null  object \n",
      " 8   DATA_COLETA_COMPLETA   0 non-null       float64\n",
      " 9   UF                     89371 non-null   object \n",
      " 10  Ano                    104947 non-null  object \n",
      "dtypes: float64(1), int64(1), object(9)\n",
      "memory usage: 10.3+ MB\n"
     ]
    }
   ],
   "source": [
    "df_metadados=pd.DataFrame()\n",
    "\n",
    "for arquivo in os.listdir('/home/tc0019/DS/car_price_prediction/data/raw/year/'):\n",
    "    # print(arquivo)\n",
    "    df_metadados=pd.concat([df_metadados, pd.read_csv('/home/tc0019/DS/car_price_prediction/data/raw/year/'+arquivo)])\n",
    "df_metadados.reset_index(drop=True, inplace=True)\n",
    "df_metadados.info()"
   ]
  },
  {
   "cell_type": "code",
   "execution_count": 63,
   "metadata": {},
   "outputs": [
    {
     "data": {
      "text/plain": [
       "(101000, 11)"
      ]
     },
     "execution_count": 63,
     "metadata": {},
     "output_type": "execute_result"
    }
   ],
   "source": [
    "# drop duplicated ID's\n",
    "df_metadados_limpos=df_metadados.drop_duplicates(subset=['ID']).reset_index(drop=True)\n",
    "df_metadados_limpos.shape"
   ]
  },
  {
   "cell_type": "code",
   "execution_count": 64,
   "metadata": {},
   "outputs": [
    {
     "data": {
      "text/html": [
       "<div>\n",
       "<style scoped>\n",
       "    .dataframe tbody tr th:only-of-type {\n",
       "        vertical-align: middle;\n",
       "    }\n",
       "\n",
       "    .dataframe tbody tr th {\n",
       "        vertical-align: top;\n",
       "    }\n",
       "\n",
       "    .dataframe thead th {\n",
       "        text-align: right;\n",
       "    }\n",
       "</style>\n",
       "<table border=\"1\" class=\"dataframe\">\n",
       "  <thead>\n",
       "    <tr style=\"text-align: right;\">\n",
       "      <th></th>\n",
       "      <th>ID</th>\n",
       "      <th>TITULO</th>\n",
       "      <th>INFOS</th>\n",
       "      <th>VALOR</th>\n",
       "      <th>LOCAL</th>\n",
       "      <th>DATA_ANUNCIO</th>\n",
       "      <th>LINK</th>\n",
       "      <th>DATA_COLETA_METADADOS</th>\n",
       "      <th>DATA_COLETA_COMPLETA</th>\n",
       "      <th>UF</th>\n",
       "      <th>Ano</th>\n",
       "    </tr>\n",
       "  </thead>\n",
       "  <tbody>\n",
       "    <tr>\n",
       "      <th>0</th>\n",
       "      <td>1028211161</td>\n",
       "      <td>Silverado 99.28 mil</td>\n",
       "      <td>0 km  |  Câmbio: Manual  |  Diesel  |</td>\n",
       "      <td>R$ 28.000</td>\n",
       "      <td>Maracanaú, Pajuçara - DDD 85</td>\n",
       "      <td>Hoje, 21:09</td>\n",
       "      <td>https://ce.olx.com.br/fortaleza-e-regiao/autos...</td>\n",
       "      <td>2022-05-04</td>\n",
       "      <td>NaN</td>\n",
       "      <td>ce</td>\n",
       "      <td>NaN</td>\n",
       "    </tr>\n",
       "    <tr>\n",
       "      <th>1</th>\n",
       "      <td>1026520834</td>\n",
       "      <td>Nissan Kicks SL CVT 2019</td>\n",
       "      <td>32.124 km  |  Câmbio: Automático  |  Flex  |</td>\n",
       "      <td>R$ 103.900</td>\n",
       "      <td>Fortaleza, Tauape - DDD 85</td>\n",
       "      <td>Hoje, 21:08</td>\n",
       "      <td>https://ce.olx.com.br/fortaleza-e-regiao/autos...</td>\n",
       "      <td>2022-05-04</td>\n",
       "      <td>NaN</td>\n",
       "      <td>ce</td>\n",
       "      <td>2019.0</td>\n",
       "    </tr>\n",
       "    <tr>\n",
       "      <th>2</th>\n",
       "      <td>1016380244</td>\n",
       "      <td>HRV 2016 LX 1.8 Flex!</td>\n",
       "      <td>85.000 km  |  Câmbio: Automático  |  Flex  |</td>\n",
       "      <td>R$ 86.900</td>\n",
       "      <td>Fortaleza, Salinas - DDD 85</td>\n",
       "      <td>Hoje, 21:08</td>\n",
       "      <td>https://ce.olx.com.br/fortaleza-e-regiao/autos...</td>\n",
       "      <td>2022-05-04</td>\n",
       "      <td>NaN</td>\n",
       "      <td>ce</td>\n",
       "      <td>2016.0</td>\n",
       "    </tr>\n",
       "    <tr>\n",
       "      <th>3</th>\n",
       "      <td>964674083</td>\n",
       "      <td>Hilux SW4 SRX 2019 Diesel.</td>\n",
       "      <td>62.000 km  |  Câmbio: Automático  |  Diesel  |</td>\n",
       "      <td>R$ 305.900</td>\n",
       "      <td>Fortaleza, Salinas - DDD 85</td>\n",
       "      <td>Hoje, 21:08</td>\n",
       "      <td>https://ce.olx.com.br/fortaleza-e-regiao/autos...</td>\n",
       "      <td>2022-05-04</td>\n",
       "      <td>NaN</td>\n",
       "      <td>ce</td>\n",
       "      <td>2019.0</td>\n",
       "    </tr>\n",
       "    <tr>\n",
       "      <th>4</th>\n",
       "      <td>999438981</td>\n",
       "      <td>MITSUBISHI PAJERO DAKAR HPE 3.2 4x4 T.I Dies 5...</td>\n",
       "      <td>61.605 km  |  Câmbio: Automático  |  Diesel  |</td>\n",
       "      <td>R$ 169.900</td>\n",
       "      <td>Fortaleza, Eng Luciano Cavalcante - DDD 85</td>\n",
       "      <td>Hoje, 21:08</td>\n",
       "      <td>https://ce.olx.com.br/fortaleza-e-regiao/autos...</td>\n",
       "      <td>2022-05-04</td>\n",
       "      <td>NaN</td>\n",
       "      <td>ce</td>\n",
       "      <td>2015.0</td>\n",
       "    </tr>\n",
       "  </tbody>\n",
       "</table>\n",
       "</div>"
      ],
      "text/plain": [
       "           ID                                             TITULO  \\\n",
       "0  1028211161                                Silverado 99.28 mil   \n",
       "1  1026520834                           Nissan Kicks SL CVT 2019   \n",
       "2  1016380244                             HRV 2016 LX 1.8 Flex!    \n",
       "3   964674083                        Hilux SW4 SRX 2019 Diesel.    \n",
       "4   999438981  MITSUBISHI PAJERO DAKAR HPE 3.2 4x4 T.I Dies 5...   \n",
       "\n",
       "                                              INFOS       VALOR  \\\n",
       "0           0 km  |  Câmbio: Manual  |  Diesel  |     R$ 28.000   \n",
       "1    32.124 km  |  Câmbio: Automático  |  Flex  |    R$ 103.900   \n",
       "2    85.000 km  |  Câmbio: Automático  |  Flex  |     R$ 86.900   \n",
       "3  62.000 km  |  Câmbio: Automático  |  Diesel  |    R$ 305.900   \n",
       "4  61.605 km  |  Câmbio: Automático  |  Diesel  |    R$ 169.900   \n",
       "\n",
       "                                        LOCAL DATA_ANUNCIO  \\\n",
       "0                Maracanaú, Pajuçara - DDD 85  Hoje, 21:09   \n",
       "1                  Fortaleza, Tauape - DDD 85  Hoje, 21:08   \n",
       "2                 Fortaleza, Salinas - DDD 85  Hoje, 21:08   \n",
       "3                 Fortaleza, Salinas - DDD 85  Hoje, 21:08   \n",
       "4  Fortaleza, Eng Luciano Cavalcante - DDD 85  Hoje, 21:08   \n",
       "\n",
       "                                                LINK DATA_COLETA_METADADOS  \\\n",
       "0  https://ce.olx.com.br/fortaleza-e-regiao/autos...            2022-05-04   \n",
       "1  https://ce.olx.com.br/fortaleza-e-regiao/autos...            2022-05-04   \n",
       "2  https://ce.olx.com.br/fortaleza-e-regiao/autos...            2022-05-04   \n",
       "3  https://ce.olx.com.br/fortaleza-e-regiao/autos...            2022-05-04   \n",
       "4  https://ce.olx.com.br/fortaleza-e-regiao/autos...            2022-05-04   \n",
       "\n",
       "   DATA_COLETA_COMPLETA  UF     Ano  \n",
       "0                   NaN  ce     NaN  \n",
       "1                   NaN  ce  2019.0  \n",
       "2                   NaN  ce  2016.0  \n",
       "3                   NaN  ce  2019.0  \n",
       "4                   NaN  ce  2015.0  "
      ]
     },
     "execution_count": 64,
     "metadata": {},
     "output_type": "execute_result"
    }
   ],
   "source": [
    "df_metadados_limpos.head()"
   ]
  },
  {
   "cell_type": "markdown",
   "metadata": {},
   "source": [
    "# 1.0 Data Description"
   ]
  },
  {
   "cell_type": "markdown",
   "metadata": {},
   "source": [
    "## 1.1 Check NA"
   ]
  },
  {
   "cell_type": "code",
   "execution_count": 65,
   "metadata": {},
   "outputs": [
    {
     "name": "stdout",
     "output_type": "stream",
     "text": [
      "==== INDICE DE NULOS NOS ATRIBUTOS ====\n"
     ]
    },
    {
     "data": {
      "text/plain": [
       "DATA_COLETA_COMPLETA     100.000000\n",
       "Ano                       15.450495\n",
       "UF                        12.785149\n",
       "VALOR                      3.378218\n",
       "ID                         0.000000\n",
       "TITULO                     0.000000\n",
       "INFOS                      0.000000\n",
       "LOCAL                      0.000000\n",
       "DATA_ANUNCIO               0.000000\n",
       "LINK                       0.000000\n",
       "DATA_COLETA_METADADOS      0.000000\n",
       "dtype: float64"
      ]
     },
     "execution_count": 65,
     "metadata": {},
     "output_type": "execute_result"
    }
   ],
   "source": [
    "print(\"==== INDICE DE NULOS NOS ATRIBUTOS ====\")\n",
    "dados = df_metadados_limpos.copy()\n",
    "(dados.isnull().sum()/len(dados)*100).sort_values(ascending = False)"
   ]
  },
  {
   "cell_type": "code",
   "execution_count": 66,
   "metadata": {},
   "outputs": [],
   "source": [
    "# Drop NAN values\n",
    "df_metadados_limpos.drop_duplicates(subset=['VALOR'], inplace=True)\n",
    "\n",
    "# Drop Columns with many NAN values\n",
    "df_metadados_limpos.drop(columns=['DATA_COLETA_COMPLETA'], inplace=True)\n"
   ]
  },
  {
   "cell_type": "code",
   "execution_count": 67,
   "metadata": {},
   "outputs": [
    {
     "data": {
      "text/html": [
       "<div>\n",
       "<style scoped>\n",
       "    .dataframe tbody tr th:only-of-type {\n",
       "        vertical-align: middle;\n",
       "    }\n",
       "\n",
       "    .dataframe tbody tr th {\n",
       "        vertical-align: top;\n",
       "    }\n",
       "\n",
       "    .dataframe thead th {\n",
       "        text-align: right;\n",
       "    }\n",
       "</style>\n",
       "<table border=\"1\" class=\"dataframe\">\n",
       "  <thead>\n",
       "    <tr style=\"text-align: right;\">\n",
       "      <th></th>\n",
       "      <th>ID</th>\n",
       "      <th>TITULO</th>\n",
       "      <th>INFOS</th>\n",
       "      <th>VALOR</th>\n",
       "      <th>LOCAL</th>\n",
       "      <th>DATA_ANUNCIO</th>\n",
       "      <th>LINK</th>\n",
       "      <th>DATA_COLETA_METADADOS</th>\n",
       "      <th>UF</th>\n",
       "      <th>Ano</th>\n",
       "    </tr>\n",
       "  </thead>\n",
       "  <tbody>\n",
       "    <tr>\n",
       "      <th>0</th>\n",
       "      <td>1028211161</td>\n",
       "      <td>Silverado 99.28 mil</td>\n",
       "      <td>0 km  |  Câmbio: Manual  |  Diesel  |</td>\n",
       "      <td>R$ 28.000</td>\n",
       "      <td>Maracanaú, Pajuçara - DDD 85</td>\n",
       "      <td>Hoje, 21:09</td>\n",
       "      <td>https://ce.olx.com.br/fortaleza-e-regiao/autos...</td>\n",
       "      <td>2022-05-04</td>\n",
       "      <td>ce</td>\n",
       "      <td>NaN</td>\n",
       "    </tr>\n",
       "    <tr>\n",
       "      <th>1</th>\n",
       "      <td>1026520834</td>\n",
       "      <td>Nissan Kicks SL CVT 2019</td>\n",
       "      <td>32.124 km  |  Câmbio: Automático  |  Flex  |</td>\n",
       "      <td>R$ 103.900</td>\n",
       "      <td>Fortaleza, Tauape - DDD 85</td>\n",
       "      <td>Hoje, 21:08</td>\n",
       "      <td>https://ce.olx.com.br/fortaleza-e-regiao/autos...</td>\n",
       "      <td>2022-05-04</td>\n",
       "      <td>ce</td>\n",
       "      <td>2019.0</td>\n",
       "    </tr>\n",
       "    <tr>\n",
       "      <th>2</th>\n",
       "      <td>1016380244</td>\n",
       "      <td>HRV 2016 LX 1.8 Flex!</td>\n",
       "      <td>85.000 km  |  Câmbio: Automático  |  Flex  |</td>\n",
       "      <td>R$ 86.900</td>\n",
       "      <td>Fortaleza, Salinas - DDD 85</td>\n",
       "      <td>Hoje, 21:08</td>\n",
       "      <td>https://ce.olx.com.br/fortaleza-e-regiao/autos...</td>\n",
       "      <td>2022-05-04</td>\n",
       "      <td>ce</td>\n",
       "      <td>2016.0</td>\n",
       "    </tr>\n",
       "    <tr>\n",
       "      <th>3</th>\n",
       "      <td>964674083</td>\n",
       "      <td>Hilux SW4 SRX 2019 Diesel.</td>\n",
       "      <td>62.000 km  |  Câmbio: Automático  |  Diesel  |</td>\n",
       "      <td>R$ 305.900</td>\n",
       "      <td>Fortaleza, Salinas - DDD 85</td>\n",
       "      <td>Hoje, 21:08</td>\n",
       "      <td>https://ce.olx.com.br/fortaleza-e-regiao/autos...</td>\n",
       "      <td>2022-05-04</td>\n",
       "      <td>ce</td>\n",
       "      <td>2019.0</td>\n",
       "    </tr>\n",
       "    <tr>\n",
       "      <th>4</th>\n",
       "      <td>999438981</td>\n",
       "      <td>MITSUBISHI PAJERO DAKAR HPE 3.2 4x4 T.I Dies 5...</td>\n",
       "      <td>61.605 km  |  Câmbio: Automático  |  Diesel  |</td>\n",
       "      <td>R$ 169.900</td>\n",
       "      <td>Fortaleza, Eng Luciano Cavalcante - DDD 85</td>\n",
       "      <td>Hoje, 21:08</td>\n",
       "      <td>https://ce.olx.com.br/fortaleza-e-regiao/autos...</td>\n",
       "      <td>2022-05-04</td>\n",
       "      <td>ce</td>\n",
       "      <td>2015.0</td>\n",
       "    </tr>\n",
       "  </tbody>\n",
       "</table>\n",
       "</div>"
      ],
      "text/plain": [
       "           ID                                             TITULO  \\\n",
       "0  1028211161                                Silverado 99.28 mil   \n",
       "1  1026520834                           Nissan Kicks SL CVT 2019   \n",
       "2  1016380244                             HRV 2016 LX 1.8 Flex!    \n",
       "3   964674083                        Hilux SW4 SRX 2019 Diesel.    \n",
       "4   999438981  MITSUBISHI PAJERO DAKAR HPE 3.2 4x4 T.I Dies 5...   \n",
       "\n",
       "                                              INFOS       VALOR  \\\n",
       "0           0 km  |  Câmbio: Manual  |  Diesel  |     R$ 28.000   \n",
       "1    32.124 km  |  Câmbio: Automático  |  Flex  |    R$ 103.900   \n",
       "2    85.000 km  |  Câmbio: Automático  |  Flex  |     R$ 86.900   \n",
       "3  62.000 km  |  Câmbio: Automático  |  Diesel  |    R$ 305.900   \n",
       "4  61.605 km  |  Câmbio: Automático  |  Diesel  |    R$ 169.900   \n",
       "\n",
       "                                        LOCAL DATA_ANUNCIO  \\\n",
       "0                Maracanaú, Pajuçara - DDD 85  Hoje, 21:09   \n",
       "1                  Fortaleza, Tauape - DDD 85  Hoje, 21:08   \n",
       "2                 Fortaleza, Salinas - DDD 85  Hoje, 21:08   \n",
       "3                 Fortaleza, Salinas - DDD 85  Hoje, 21:08   \n",
       "4  Fortaleza, Eng Luciano Cavalcante - DDD 85  Hoje, 21:08   \n",
       "\n",
       "                                                LINK DATA_COLETA_METADADOS  \\\n",
       "0  https://ce.olx.com.br/fortaleza-e-regiao/autos...            2022-05-04   \n",
       "1  https://ce.olx.com.br/fortaleza-e-regiao/autos...            2022-05-04   \n",
       "2  https://ce.olx.com.br/fortaleza-e-regiao/autos...            2022-05-04   \n",
       "3  https://ce.olx.com.br/fortaleza-e-regiao/autos...            2022-05-04   \n",
       "4  https://ce.olx.com.br/fortaleza-e-regiao/autos...            2022-05-04   \n",
       "\n",
       "   UF     Ano  \n",
       "0  ce     NaN  \n",
       "1  ce  2019.0  \n",
       "2  ce  2016.0  \n",
       "3  ce  2019.0  \n",
       "4  ce  2015.0  "
      ]
     },
     "execution_count": 67,
     "metadata": {},
     "output_type": "execute_result"
    }
   ],
   "source": [
    "df_metadados_limpos.head()"
   ]
  },
  {
   "cell_type": "markdown",
   "metadata": {},
   "source": [
    "## 1.2 PREPARAÇÃO/TRATAMENTO NOS DADOS"
   ]
  },
  {
   "cell_type": "markdown",
   "metadata": {},
   "source": [
    "- Com base no que foi analisado inicialmente nos dados, vamos realizar os seguintes procedimentos para tratar os dados\n",
    "    - Converter todos os atributos para minúsculo\n",
    "    - INFOS: dividir em km, cambio e combustivel em novas colunas. Retirar ponto do KM e converter para float\n",
    "    - VALOR: limpar R$, retirar ponto e converter para float\n",
    "    - LOCAL: excluir coluna (já temos a UF)\n",
    "    - DATA_ANUNCIO: excluir coluna\n",
    "    - LINK: excluir coluna\n",
    "    - DATA_COLETA: excluir coluna.\n",
    "    - UF: corrigir linhas NULAS utilizando a coluna LINK para recuperar a UF"
   ]
  },
  {
   "cell_type": "code",
   "execution_count": 68,
   "metadata": {},
   "outputs": [
    {
     "data": {
      "text/html": [
       "<div>\n",
       "<style scoped>\n",
       "    .dataframe tbody tr th:only-of-type {\n",
       "        vertical-align: middle;\n",
       "    }\n",
       "\n",
       "    .dataframe tbody tr th {\n",
       "        vertical-align: top;\n",
       "    }\n",
       "\n",
       "    .dataframe thead th {\n",
       "        text-align: right;\n",
       "    }\n",
       "</style>\n",
       "<table border=\"1\" class=\"dataframe\">\n",
       "  <thead>\n",
       "    <tr style=\"text-align: right;\">\n",
       "      <th></th>\n",
       "      <th>ID</th>\n",
       "      <th>TITULO</th>\n",
       "      <th>INFOS</th>\n",
       "      <th>VALOR</th>\n",
       "      <th>LOCAL</th>\n",
       "      <th>DATA_ANUNCIO</th>\n",
       "      <th>LINK</th>\n",
       "      <th>DATA_COLETA_METADADOS</th>\n",
       "      <th>UF</th>\n",
       "      <th>Ano</th>\n",
       "    </tr>\n",
       "  </thead>\n",
       "  <tbody>\n",
       "    <tr>\n",
       "      <th>0</th>\n",
       "      <td>1028211161</td>\n",
       "      <td>silverado 99.28 mil</td>\n",
       "      <td>0 km  |  câmbio: manual  |  diesel  |</td>\n",
       "      <td>r$ 28.000</td>\n",
       "      <td>maracanaú, pajuçara - ddd 85</td>\n",
       "      <td>hoje, 21:09</td>\n",
       "      <td>https://ce.olx.com.br/fortaleza-e-regiao/autos...</td>\n",
       "      <td>2022-05-04</td>\n",
       "      <td>ce</td>\n",
       "      <td>NaN</td>\n",
       "    </tr>\n",
       "    <tr>\n",
       "      <th>1</th>\n",
       "      <td>1026520834</td>\n",
       "      <td>nissan kicks sl cvt 2019</td>\n",
       "      <td>32.124 km  |  câmbio: automático  |  flex  |</td>\n",
       "      <td>r$ 103.900</td>\n",
       "      <td>fortaleza, tauape - ddd 85</td>\n",
       "      <td>hoje, 21:08</td>\n",
       "      <td>https://ce.olx.com.br/fortaleza-e-regiao/autos...</td>\n",
       "      <td>2022-05-04</td>\n",
       "      <td>ce</td>\n",
       "      <td>2019.0</td>\n",
       "    </tr>\n",
       "    <tr>\n",
       "      <th>2</th>\n",
       "      <td>1016380244</td>\n",
       "      <td>hrv 2016 lx 1.8 flex!</td>\n",
       "      <td>85.000 km  |  câmbio: automático  |  flex  |</td>\n",
       "      <td>r$ 86.900</td>\n",
       "      <td>fortaleza, salinas - ddd 85</td>\n",
       "      <td>hoje, 21:08</td>\n",
       "      <td>https://ce.olx.com.br/fortaleza-e-regiao/autos...</td>\n",
       "      <td>2022-05-04</td>\n",
       "      <td>ce</td>\n",
       "      <td>2016.0</td>\n",
       "    </tr>\n",
       "    <tr>\n",
       "      <th>3</th>\n",
       "      <td>964674083</td>\n",
       "      <td>hilux sw4 srx 2019 diesel.</td>\n",
       "      <td>62.000 km  |  câmbio: automático  |  diesel  |</td>\n",
       "      <td>r$ 305.900</td>\n",
       "      <td>fortaleza, salinas - ddd 85</td>\n",
       "      <td>hoje, 21:08</td>\n",
       "      <td>https://ce.olx.com.br/fortaleza-e-regiao/autos...</td>\n",
       "      <td>2022-05-04</td>\n",
       "      <td>ce</td>\n",
       "      <td>2019.0</td>\n",
       "    </tr>\n",
       "    <tr>\n",
       "      <th>4</th>\n",
       "      <td>999438981</td>\n",
       "      <td>mitsubishi pajero dakar hpe 3.2 4x4 t.i dies 5...</td>\n",
       "      <td>61.605 km  |  câmbio: automático  |  diesel  |</td>\n",
       "      <td>r$ 169.900</td>\n",
       "      <td>fortaleza, eng luciano cavalcante - ddd 85</td>\n",
       "      <td>hoje, 21:08</td>\n",
       "      <td>https://ce.olx.com.br/fortaleza-e-regiao/autos...</td>\n",
       "      <td>2022-05-04</td>\n",
       "      <td>ce</td>\n",
       "      <td>2015.0</td>\n",
       "    </tr>\n",
       "  </tbody>\n",
       "</table>\n",
       "</div>"
      ],
      "text/plain": [
       "           ID                                             TITULO  \\\n",
       "0  1028211161                                silverado 99.28 mil   \n",
       "1  1026520834                           nissan kicks sl cvt 2019   \n",
       "2  1016380244                             hrv 2016 lx 1.8 flex!    \n",
       "3   964674083                        hilux sw4 srx 2019 diesel.    \n",
       "4   999438981  mitsubishi pajero dakar hpe 3.2 4x4 t.i dies 5...   \n",
       "\n",
       "                                              INFOS       VALOR  \\\n",
       "0           0 km  |  câmbio: manual  |  diesel  |     r$ 28.000   \n",
       "1    32.124 km  |  câmbio: automático  |  flex  |    r$ 103.900   \n",
       "2    85.000 km  |  câmbio: automático  |  flex  |     r$ 86.900   \n",
       "3  62.000 km  |  câmbio: automático  |  diesel  |    r$ 305.900   \n",
       "4  61.605 km  |  câmbio: automático  |  diesel  |    r$ 169.900   \n",
       "\n",
       "                                        LOCAL DATA_ANUNCIO  \\\n",
       "0                maracanaú, pajuçara - ddd 85  hoje, 21:09   \n",
       "1                  fortaleza, tauape - ddd 85  hoje, 21:08   \n",
       "2                 fortaleza, salinas - ddd 85  hoje, 21:08   \n",
       "3                 fortaleza, salinas - ddd 85  hoje, 21:08   \n",
       "4  fortaleza, eng luciano cavalcante - ddd 85  hoje, 21:08   \n",
       "\n",
       "                                                LINK DATA_COLETA_METADADOS  \\\n",
       "0  https://ce.olx.com.br/fortaleza-e-regiao/autos...            2022-05-04   \n",
       "1  https://ce.olx.com.br/fortaleza-e-regiao/autos...            2022-05-04   \n",
       "2  https://ce.olx.com.br/fortaleza-e-regiao/autos...            2022-05-04   \n",
       "3  https://ce.olx.com.br/fortaleza-e-regiao/autos...            2022-05-04   \n",
       "4  https://ce.olx.com.br/fortaleza-e-regiao/autos...            2022-05-04   \n",
       "\n",
       "   UF     Ano  \n",
       "0  ce     NaN  \n",
       "1  ce  2019.0  \n",
       "2  ce  2016.0  \n",
       "3  ce  2019.0  \n",
       "4  ce  2015.0  "
      ]
     },
     "execution_count": 68,
     "metadata": {},
     "output_type": "execute_result"
    }
   ],
   "source": [
    "df_metadados_limpos = df_metadados_limpos.applymap(lambda x: x.lower() if type(x) == str else x)\n",
    "df_metadados_limpos.head()"
   ]
  },
  {
   "cell_type": "markdown",
   "metadata": {},
   "source": [
    "INFOS"
   ]
  },
  {
   "cell_type": "code",
   "execution_count": 69,
   "metadata": {},
   "outputs": [
    {
     "data": {
      "text/plain": [
       "'0 km\\xa0\\xa0|\\xa0\\xa0câmbio: manual\\xa0\\xa0|\\xa0\\xa0diesel\\xa0\\xa0|\\xa0\\xa0'"
      ]
     },
     "execution_count": 69,
     "metadata": {},
     "output_type": "execute_result"
    }
   ],
   "source": [
    "df_metadados_limpos.INFOS[0]"
   ]
  },
  {
   "cell_type": "code",
   "execution_count": 70,
   "metadata": {},
   "outputs": [],
   "source": [
    "## cleaning unwanted characters\n",
    "infos = df_metadados_limpos.INFOS[:].str.replace('km|câmbio|:|\\xa0|\\.|\\s+','',regex=True) \n"
   ]
  },
  {
   "cell_type": "code",
   "execution_count": 71,
   "metadata": {},
   "outputs": [
    {
     "data": {
      "text/plain": [
       "0                 [0, manual, diesel]\n",
       "1           [32124, automático, flex]\n",
       "2           [85000, automático, flex]\n",
       "3         [62000, automático, diesel]\n",
       "4         [61605, automático, diesel]\n",
       "                     ...             \n",
       "100773      [51000, automático, flex]\n",
       "100776      [69583, automático, flex]\n",
       "100843      [94000, automático, flex]\n",
       "100859          [0, automático, flex]\n",
       "100959    [86000, automático, diesel]\n",
       "Name: INFOS, Length: 6080, dtype: object"
      ]
     },
     "execution_count": 71,
     "metadata": {},
     "output_type": "execute_result"
    }
   ],
   "source": [
    "infos=infos.str.replace('\\|$', \"\",regex=True)\n",
    "infos=infos.str.split('|')\n",
    "infos\n"
   ]
  },
  {
   "cell_type": "code",
   "execution_count": 72,
   "metadata": {},
   "outputs": [
    {
     "data": {
      "text/plain": [
       "[['0', 'manual', 'diesel'],\n",
       " ['32124', 'automático', 'flex'],\n",
       " ['85000', 'automático', 'flex'],\n",
       " ['62000', 'automático', 'diesel'],\n",
       " ['61605', 'automático', 'diesel'],\n",
       " ['50979', 'automático', 'flex'],\n",
       " ['59000', 'manual', 'flex'],\n",
       " ['95700', 'manual', 'flex'],\n",
       " ['17000', 'automático', 'gasolina'],\n",
       " ['36000', 'manual', 'flex']]"
      ]
     },
     "execution_count": 72,
     "metadata": {},
     "output_type": "execute_result"
    }
   ],
   "source": [
    "lista_infos=[i for i in infos]\n",
    "lista_infos[:10]"
   ]
  },
  {
   "cell_type": "code",
   "execution_count": 73,
   "metadata": {},
   "outputs": [
    {
     "data": {
      "text/html": [
       "<div>\n",
       "<style scoped>\n",
       "    .dataframe tbody tr th:only-of-type {\n",
       "        vertical-align: middle;\n",
       "    }\n",
       "\n",
       "    .dataframe tbody tr th {\n",
       "        vertical-align: top;\n",
       "    }\n",
       "\n",
       "    .dataframe thead th {\n",
       "        text-align: right;\n",
       "    }\n",
       "</style>\n",
       "<table border=\"1\" class=\"dataframe\">\n",
       "  <thead>\n",
       "    <tr style=\"text-align: right;\">\n",
       "      <th></th>\n",
       "      <th>ID</th>\n",
       "      <th>TITULO</th>\n",
       "      <th>INFOS</th>\n",
       "      <th>VALOR</th>\n",
       "      <th>LOCAL</th>\n",
       "      <th>DATA_ANUNCIO</th>\n",
       "      <th>LINK</th>\n",
       "      <th>DATA_COLETA_METADADOS</th>\n",
       "      <th>UF</th>\n",
       "      <th>Ano</th>\n",
       "      <th>KM</th>\n",
       "      <th>CAMBIO</th>\n",
       "      <th>COMBUSTIVEL</th>\n",
       "    </tr>\n",
       "  </thead>\n",
       "  <tbody>\n",
       "    <tr>\n",
       "      <th>0</th>\n",
       "      <td>1.028211e+09</td>\n",
       "      <td>silverado 99.28 mil</td>\n",
       "      <td>0 km  |  câmbio: manual  |  diesel  |</td>\n",
       "      <td>r$ 28.000</td>\n",
       "      <td>maracanaú, pajuçara - ddd 85</td>\n",
       "      <td>hoje, 21:09</td>\n",
       "      <td>https://ce.olx.com.br/fortaleza-e-regiao/autos...</td>\n",
       "      <td>2022-05-04</td>\n",
       "      <td>ce</td>\n",
       "      <td>NaN</td>\n",
       "      <td>0</td>\n",
       "      <td>manual</td>\n",
       "      <td>diesel</td>\n",
       "    </tr>\n",
       "    <tr>\n",
       "      <th>1</th>\n",
       "      <td>1.026521e+09</td>\n",
       "      <td>nissan kicks sl cvt 2019</td>\n",
       "      <td>32.124 km  |  câmbio: automático  |  flex  |</td>\n",
       "      <td>r$ 103.900</td>\n",
       "      <td>fortaleza, tauape - ddd 85</td>\n",
       "      <td>hoje, 21:08</td>\n",
       "      <td>https://ce.olx.com.br/fortaleza-e-regiao/autos...</td>\n",
       "      <td>2022-05-04</td>\n",
       "      <td>ce</td>\n",
       "      <td>2019.0</td>\n",
       "      <td>32124</td>\n",
       "      <td>automático</td>\n",
       "      <td>flex</td>\n",
       "    </tr>\n",
       "    <tr>\n",
       "      <th>2</th>\n",
       "      <td>1.016380e+09</td>\n",
       "      <td>hrv 2016 lx 1.8 flex!</td>\n",
       "      <td>85.000 km  |  câmbio: automático  |  flex  |</td>\n",
       "      <td>r$ 86.900</td>\n",
       "      <td>fortaleza, salinas - ddd 85</td>\n",
       "      <td>hoje, 21:08</td>\n",
       "      <td>https://ce.olx.com.br/fortaleza-e-regiao/autos...</td>\n",
       "      <td>2022-05-04</td>\n",
       "      <td>ce</td>\n",
       "      <td>2016.0</td>\n",
       "      <td>85000</td>\n",
       "      <td>automático</td>\n",
       "      <td>flex</td>\n",
       "    </tr>\n",
       "    <tr>\n",
       "      <th>3</th>\n",
       "      <td>9.646741e+08</td>\n",
       "      <td>hilux sw4 srx 2019 diesel.</td>\n",
       "      <td>62.000 km  |  câmbio: automático  |  diesel  |</td>\n",
       "      <td>r$ 305.900</td>\n",
       "      <td>fortaleza, salinas - ddd 85</td>\n",
       "      <td>hoje, 21:08</td>\n",
       "      <td>https://ce.olx.com.br/fortaleza-e-regiao/autos...</td>\n",
       "      <td>2022-05-04</td>\n",
       "      <td>ce</td>\n",
       "      <td>2019.0</td>\n",
       "      <td>62000</td>\n",
       "      <td>automático</td>\n",
       "      <td>diesel</td>\n",
       "    </tr>\n",
       "    <tr>\n",
       "      <th>4</th>\n",
       "      <td>9.994390e+08</td>\n",
       "      <td>mitsubishi pajero dakar hpe 3.2 4x4 t.i dies 5...</td>\n",
       "      <td>61.605 km  |  câmbio: automático  |  diesel  |</td>\n",
       "      <td>r$ 169.900</td>\n",
       "      <td>fortaleza, eng luciano cavalcante - ddd 85</td>\n",
       "      <td>hoje, 21:08</td>\n",
       "      <td>https://ce.olx.com.br/fortaleza-e-regiao/autos...</td>\n",
       "      <td>2022-05-04</td>\n",
       "      <td>ce</td>\n",
       "      <td>2015.0</td>\n",
       "      <td>61605</td>\n",
       "      <td>automático</td>\n",
       "      <td>diesel</td>\n",
       "    </tr>\n",
       "  </tbody>\n",
       "</table>\n",
       "</div>"
      ],
      "text/plain": [
       "             ID                                             TITULO  \\\n",
       "0  1.028211e+09                                silverado 99.28 mil   \n",
       "1  1.026521e+09                           nissan kicks sl cvt 2019   \n",
       "2  1.016380e+09                             hrv 2016 lx 1.8 flex!    \n",
       "3  9.646741e+08                        hilux sw4 srx 2019 diesel.    \n",
       "4  9.994390e+08  mitsubishi pajero dakar hpe 3.2 4x4 t.i dies 5...   \n",
       "\n",
       "                                              INFOS       VALOR  \\\n",
       "0           0 km  |  câmbio: manual  |  diesel  |     r$ 28.000   \n",
       "1    32.124 km  |  câmbio: automático  |  flex  |    r$ 103.900   \n",
       "2    85.000 km  |  câmbio: automático  |  flex  |     r$ 86.900   \n",
       "3  62.000 km  |  câmbio: automático  |  diesel  |    r$ 305.900   \n",
       "4  61.605 km  |  câmbio: automático  |  diesel  |    r$ 169.900   \n",
       "\n",
       "                                        LOCAL DATA_ANUNCIO  \\\n",
       "0                maracanaú, pajuçara - ddd 85  hoje, 21:09   \n",
       "1                  fortaleza, tauape - ddd 85  hoje, 21:08   \n",
       "2                 fortaleza, salinas - ddd 85  hoje, 21:08   \n",
       "3                 fortaleza, salinas - ddd 85  hoje, 21:08   \n",
       "4  fortaleza, eng luciano cavalcante - ddd 85  hoje, 21:08   \n",
       "\n",
       "                                                LINK DATA_COLETA_METADADOS  \\\n",
       "0  https://ce.olx.com.br/fortaleza-e-regiao/autos...            2022-05-04   \n",
       "1  https://ce.olx.com.br/fortaleza-e-regiao/autos...            2022-05-04   \n",
       "2  https://ce.olx.com.br/fortaleza-e-regiao/autos...            2022-05-04   \n",
       "3  https://ce.olx.com.br/fortaleza-e-regiao/autos...            2022-05-04   \n",
       "4  https://ce.olx.com.br/fortaleza-e-regiao/autos...            2022-05-04   \n",
       "\n",
       "   UF     Ano     KM      CAMBIO COMBUSTIVEL  \n",
       "0  ce     NaN      0      manual      diesel  \n",
       "1  ce  2019.0  32124  automático        flex  \n",
       "2  ce  2016.0  85000  automático        flex  \n",
       "3  ce  2019.0  62000  automático      diesel  \n",
       "4  ce  2015.0  61605  automático      diesel  "
      ]
     },
     "execution_count": 73,
     "metadata": {},
     "output_type": "execute_result"
    }
   ],
   "source": [
    "infos_veiculo = pd.DataFrame(lista_infos, columns= ['KM', 'CAMBIO', 'COMBUSTIVEL'])\n",
    "df_metadados_limpos_2 = pd.concat([df_metadados_limpos, infos_veiculo], axis=1)\n",
    "df_metadados_limpos_2.to_csv('/home/tc0019/DS/car_price_prediction/data/raw/metadados_limpos_2.csv')\n",
    "df_metadados_limpos_2.head()"
   ]
  },
  {
   "cell_type": "markdown",
   "metadata": {},
   "source": [
    "VALOR"
   ]
  },
  {
   "cell_type": "code",
   "execution_count": 74,
   "metadata": {},
   "outputs": [
    {
     "data": {
      "text/html": [
       "<div>\n",
       "<style scoped>\n",
       "    .dataframe tbody tr th:only-of-type {\n",
       "        vertical-align: middle;\n",
       "    }\n",
       "\n",
       "    .dataframe tbody tr th {\n",
       "        vertical-align: top;\n",
       "    }\n",
       "\n",
       "    .dataframe thead th {\n",
       "        text-align: right;\n",
       "    }\n",
       "</style>\n",
       "<table border=\"1\" class=\"dataframe\">\n",
       "  <thead>\n",
       "    <tr style=\"text-align: right;\">\n",
       "      <th></th>\n",
       "      <th>ID</th>\n",
       "      <th>TITULO</th>\n",
       "      <th>INFOS</th>\n",
       "      <th>VALOR</th>\n",
       "      <th>LOCAL</th>\n",
       "      <th>DATA_ANUNCIO</th>\n",
       "      <th>LINK</th>\n",
       "      <th>DATA_COLETA_METADADOS</th>\n",
       "      <th>UF</th>\n",
       "      <th>Ano</th>\n",
       "      <th>KM</th>\n",
       "      <th>CAMBIO</th>\n",
       "      <th>COMBUSTIVEL</th>\n",
       "      <th>VALOR_LIMPO</th>\n",
       "    </tr>\n",
       "  </thead>\n",
       "  <tbody>\n",
       "    <tr>\n",
       "      <th>0</th>\n",
       "      <td>1.028211e+09</td>\n",
       "      <td>silverado 99.28 mil</td>\n",
       "      <td>0 km  |  câmbio: manual  |  diesel  |</td>\n",
       "      <td>r$ 28.000</td>\n",
       "      <td>maracanaú, pajuçara - ddd 85</td>\n",
       "      <td>hoje, 21:09</td>\n",
       "      <td>https://ce.olx.com.br/fortaleza-e-regiao/autos...</td>\n",
       "      <td>2022-05-04</td>\n",
       "      <td>ce</td>\n",
       "      <td>NaN</td>\n",
       "      <td>0</td>\n",
       "      <td>manual</td>\n",
       "      <td>diesel</td>\n",
       "      <td>28000</td>\n",
       "    </tr>\n",
       "    <tr>\n",
       "      <th>1</th>\n",
       "      <td>1.026521e+09</td>\n",
       "      <td>nissan kicks sl cvt 2019</td>\n",
       "      <td>32.124 km  |  câmbio: automático  |  flex  |</td>\n",
       "      <td>r$ 103.900</td>\n",
       "      <td>fortaleza, tauape - ddd 85</td>\n",
       "      <td>hoje, 21:08</td>\n",
       "      <td>https://ce.olx.com.br/fortaleza-e-regiao/autos...</td>\n",
       "      <td>2022-05-04</td>\n",
       "      <td>ce</td>\n",
       "      <td>2019.0</td>\n",
       "      <td>32124</td>\n",
       "      <td>automático</td>\n",
       "      <td>flex</td>\n",
       "      <td>103900</td>\n",
       "    </tr>\n",
       "    <tr>\n",
       "      <th>2</th>\n",
       "      <td>1.016380e+09</td>\n",
       "      <td>hrv 2016 lx 1.8 flex!</td>\n",
       "      <td>85.000 km  |  câmbio: automático  |  flex  |</td>\n",
       "      <td>r$ 86.900</td>\n",
       "      <td>fortaleza, salinas - ddd 85</td>\n",
       "      <td>hoje, 21:08</td>\n",
       "      <td>https://ce.olx.com.br/fortaleza-e-regiao/autos...</td>\n",
       "      <td>2022-05-04</td>\n",
       "      <td>ce</td>\n",
       "      <td>2016.0</td>\n",
       "      <td>85000</td>\n",
       "      <td>automático</td>\n",
       "      <td>flex</td>\n",
       "      <td>86900</td>\n",
       "    </tr>\n",
       "    <tr>\n",
       "      <th>3</th>\n",
       "      <td>9.646741e+08</td>\n",
       "      <td>hilux sw4 srx 2019 diesel.</td>\n",
       "      <td>62.000 km  |  câmbio: automático  |  diesel  |</td>\n",
       "      <td>r$ 305.900</td>\n",
       "      <td>fortaleza, salinas - ddd 85</td>\n",
       "      <td>hoje, 21:08</td>\n",
       "      <td>https://ce.olx.com.br/fortaleza-e-regiao/autos...</td>\n",
       "      <td>2022-05-04</td>\n",
       "      <td>ce</td>\n",
       "      <td>2019.0</td>\n",
       "      <td>62000</td>\n",
       "      <td>automático</td>\n",
       "      <td>diesel</td>\n",
       "      <td>305900</td>\n",
       "    </tr>\n",
       "    <tr>\n",
       "      <th>4</th>\n",
       "      <td>9.994390e+08</td>\n",
       "      <td>mitsubishi pajero dakar hpe 3.2 4x4 t.i dies 5...</td>\n",
       "      <td>61.605 km  |  câmbio: automático  |  diesel  |</td>\n",
       "      <td>r$ 169.900</td>\n",
       "      <td>fortaleza, eng luciano cavalcante - ddd 85</td>\n",
       "      <td>hoje, 21:08</td>\n",
       "      <td>https://ce.olx.com.br/fortaleza-e-regiao/autos...</td>\n",
       "      <td>2022-05-04</td>\n",
       "      <td>ce</td>\n",
       "      <td>2015.0</td>\n",
       "      <td>61605</td>\n",
       "      <td>automático</td>\n",
       "      <td>diesel</td>\n",
       "      <td>169900</td>\n",
       "    </tr>\n",
       "  </tbody>\n",
       "</table>\n",
       "</div>"
      ],
      "text/plain": [
       "             ID                                             TITULO  \\\n",
       "0  1.028211e+09                                silverado 99.28 mil   \n",
       "1  1.026521e+09                           nissan kicks sl cvt 2019   \n",
       "2  1.016380e+09                             hrv 2016 lx 1.8 flex!    \n",
       "3  9.646741e+08                        hilux sw4 srx 2019 diesel.    \n",
       "4  9.994390e+08  mitsubishi pajero dakar hpe 3.2 4x4 t.i dies 5...   \n",
       "\n",
       "                                              INFOS       VALOR  \\\n",
       "0           0 km  |  câmbio: manual  |  diesel  |     r$ 28.000   \n",
       "1    32.124 km  |  câmbio: automático  |  flex  |    r$ 103.900   \n",
       "2    85.000 km  |  câmbio: automático  |  flex  |     r$ 86.900   \n",
       "3  62.000 km  |  câmbio: automático  |  diesel  |    r$ 305.900   \n",
       "4  61.605 km  |  câmbio: automático  |  diesel  |    r$ 169.900   \n",
       "\n",
       "                                        LOCAL DATA_ANUNCIO  \\\n",
       "0                maracanaú, pajuçara - ddd 85  hoje, 21:09   \n",
       "1                  fortaleza, tauape - ddd 85  hoje, 21:08   \n",
       "2                 fortaleza, salinas - ddd 85  hoje, 21:08   \n",
       "3                 fortaleza, salinas - ddd 85  hoje, 21:08   \n",
       "4  fortaleza, eng luciano cavalcante - ddd 85  hoje, 21:08   \n",
       "\n",
       "                                                LINK DATA_COLETA_METADADOS  \\\n",
       "0  https://ce.olx.com.br/fortaleza-e-regiao/autos...            2022-05-04   \n",
       "1  https://ce.olx.com.br/fortaleza-e-regiao/autos...            2022-05-04   \n",
       "2  https://ce.olx.com.br/fortaleza-e-regiao/autos...            2022-05-04   \n",
       "3  https://ce.olx.com.br/fortaleza-e-regiao/autos...            2022-05-04   \n",
       "4  https://ce.olx.com.br/fortaleza-e-regiao/autos...            2022-05-04   \n",
       "\n",
       "   UF     Ano     KM      CAMBIO COMBUSTIVEL VALOR_LIMPO  \n",
       "0  ce     NaN      0      manual      diesel       28000  \n",
       "1  ce  2019.0  32124  automático        flex      103900  \n",
       "2  ce  2016.0  85000  automático        flex       86900  \n",
       "3  ce  2019.0  62000  automático      diesel      305900  \n",
       "4  ce  2015.0  61605  automático      diesel      169900  "
      ]
     },
     "execution_count": 74,
     "metadata": {},
     "output_type": "execute_result"
    }
   ],
   "source": [
    "df_metadados_limpos_2.loc[:, 'VALOR_LIMPO'] = df_metadados_limpos_2.VALOR.str.replace('r\\$|\\.|\\s+', '',regex=True)\n",
    "df_metadados_limpos_2.head()"
   ]
  },
  {
   "cell_type": "markdown",
   "metadata": {},
   "source": [
    "UF"
   ]
  },
  {
   "cell_type": "code",
   "execution_count": 75,
   "metadata": {},
   "outputs": [
    {
     "data": {
      "text/plain": [
       "(21,\n",
       " array(['ce', 'go', 'pb', 'sp', 'pr', 'df', nan, 'to', 'mt', 'mg', 'ba',\n",
       "        'pe', 'rs', 'ro', 'pi', 'ms', 'rr', 'se', 'ma', 'pa', 'sc', 'es'],\n",
       "       dtype=object))"
      ]
     },
     "execution_count": 75,
     "metadata": {},
     "output_type": "execute_result"
    }
   ],
   "source": [
    "(df_metadados_limpos_2.UF.nunique(),df_metadados_limpos_2.UF.unique())"
   ]
  },
  {
   "cell_type": "code",
   "execution_count": 76,
   "metadata": {},
   "outputs": [
    {
     "data": {
      "text/plain": [
       "0    ce\n",
       "1    ce\n",
       "2    ce\n",
       "3    ce\n",
       "4    ce\n",
       "Name: LINK, dtype: object"
      ]
     },
     "execution_count": 76,
     "metadata": {},
     "output_type": "execute_result"
    }
   ],
   "source": [
    "# getting uf from link column\n",
    "df_metadados_limpos_2.LINK[:5].apply(lambda x: x[8:10])"
   ]
  },
  {
   "cell_type": "code",
   "execution_count": 77,
   "metadata": {},
   "outputs": [],
   "source": [
    "# insert column value only with none value\n",
    "ids_uf_none=df_metadados_limpos_2.query('UF.isnull()', engine='python')['ID']\n",
    "ids_uf_none=ids_uf_none.dropna()"
   ]
  },
  {
   "cell_type": "code",
   "execution_count": 78,
   "metadata": {},
   "outputs": [],
   "source": [
    "# replacing NONE with UF\n",
    "df_metadados_limpos_2.loc[df_metadados_limpos_2.ID.isin(ids_uf_none),'UF'] = df_metadados_limpos_2.query(f\"ID in {ids_uf_none.tolist()}\").LINK.apply(lambda x: x[8:10])"
   ]
  },
  {
   "cell_type": "code",
   "execution_count": 79,
   "metadata": {},
   "outputs": [
    {
     "name": "stdout",
     "output_type": "stream",
     "text": [
      "==== INDICE DE NULOS NOS ATRIBUTOS ====\n"
     ]
    },
    {
     "data": {
      "text/plain": [
       "Ano                      52.048260\n",
       "COMBUSTIVEL              44.809203\n",
       "CAMBIO                   43.948747\n",
       "VALOR                    43.144407\n",
       "VALOR_LIMPO              43.144407\n",
       "ID                       43.135054\n",
       "TITULO                   43.135054\n",
       "INFOS                    43.135054\n",
       "LOCAL                    43.135054\n",
       "DATA_ANUNCIO             43.135054\n",
       "LINK                     43.135054\n",
       "DATA_COLETA_METADADOS    43.135054\n",
       "UF                       43.135054\n",
       "KM                       43.135054\n",
       "dtype: float64"
      ]
     },
     "execution_count": 79,
     "metadata": {},
     "output_type": "execute_result"
    }
   ],
   "source": [
    "print(\"==== INDICE DE NULOS NOS ATRIBUTOS ====\")\n",
    "dados = df_metadados_limpos_2.copy()\n",
    "(dados.isnull().sum()/len(dados)*100).sort_values(ascending=False)"
   ]
  },
  {
   "cell_type": "code",
   "execution_count": 81,
   "metadata": {},
   "outputs": [
    {
     "data": {
      "text/html": [
       "<div>\n",
       "<style scoped>\n",
       "    .dataframe tbody tr th:only-of-type {\n",
       "        vertical-align: middle;\n",
       "    }\n",
       "\n",
       "    .dataframe tbody tr th {\n",
       "        vertical-align: top;\n",
       "    }\n",
       "\n",
       "    .dataframe thead th {\n",
       "        text-align: right;\n",
       "    }\n",
       "</style>\n",
       "<table border=\"1\" class=\"dataframe\">\n",
       "  <thead>\n",
       "    <tr style=\"text-align: right;\">\n",
       "      <th></th>\n",
       "      <th>ID</th>\n",
       "      <th>TITULO</th>\n",
       "      <th>INFOS</th>\n",
       "      <th>VALOR</th>\n",
       "      <th>LOCAL</th>\n",
       "      <th>DATA_ANUNCIO</th>\n",
       "      <th>LINK</th>\n",
       "      <th>DATA_COLETA_METADADOS</th>\n",
       "      <th>UF</th>\n",
       "      <th>Ano</th>\n",
       "      <th>KM</th>\n",
       "      <th>CAMBIO</th>\n",
       "      <th>COMBUSTIVEL</th>\n",
       "      <th>VALOR_LIMPO</th>\n",
       "    </tr>\n",
       "  </thead>\n",
       "  <tbody>\n",
       "    <tr>\n",
       "      <th>81074</th>\n",
       "      <td>1.020398e+09</td>\n",
       "      <td>som automotivo gls   são luís</td>\n",
       "      <td>20.000 km  |  câmbio: automático  |  flex  |</td>\n",
       "      <td>r$ 190</td>\n",
       "      <td>são luís, planalto vinhais ii - ddd 98</td>\n",
       "      <td>14 abr, 10:58</td>\n",
       "      <td>https://ma.olx.com.br/regiao-de-sao-luis/autos...</td>\n",
       "      <td>2022-05-04</td>\n",
       "      <td>ma</td>\n",
       "      <td>2020</td>\n",
       "      <td>NaN</td>\n",
       "      <td>NaN</td>\n",
       "      <td>NaN</td>\n",
       "      <td>190</td>\n",
       "    </tr>\n",
       "    <tr>\n",
       "      <th>1555</th>\n",
       "      <td>NaN</td>\n",
       "      <td>NaN</td>\n",
       "      <td>NaN</td>\n",
       "      <td>NaN</td>\n",
       "      <td>NaN</td>\n",
       "      <td>NaN</td>\n",
       "      <td>NaN</td>\n",
       "      <td>NaN</td>\n",
       "      <td>NaN</td>\n",
       "      <td>NaN</td>\n",
       "      <td>0</td>\n",
       "      <td>automático</td>\n",
       "      <td>diesel</td>\n",
       "      <td>NaN</td>\n",
       "    </tr>\n",
       "    <tr>\n",
       "      <th>197</th>\n",
       "      <td>1.008058e+09</td>\n",
       "      <td>jeep compass 2017/2018</td>\n",
       "      <td>35.000 km  |  câmbio: automático  |  flex  |</td>\n",
       "      <td>r$ 124.990</td>\n",
       "      <td>fortaleza, aldeota - ddd 85</td>\n",
       "      <td>hoje, 19:55</td>\n",
       "      <td>https://ce.olx.com.br/fortaleza-e-regiao/autos...</td>\n",
       "      <td>2022-05-04</td>\n",
       "      <td>ce</td>\n",
       "      <td>2018.0</td>\n",
       "      <td>124000</td>\n",
       "      <td>manual</td>\n",
       "      <td>flex</td>\n",
       "      <td>124990</td>\n",
       "    </tr>\n",
       "    <tr>\n",
       "      <th>1676</th>\n",
       "      <td>NaN</td>\n",
       "      <td>NaN</td>\n",
       "      <td>NaN</td>\n",
       "      <td>NaN</td>\n",
       "      <td>NaN</td>\n",
       "      <td>NaN</td>\n",
       "      <td>NaN</td>\n",
       "      <td>NaN</td>\n",
       "      <td>NaN</td>\n",
       "      <td>NaN</td>\n",
       "      <td>81000</td>\n",
       "      <td>manual</td>\n",
       "      <td>flex</td>\n",
       "      <td>NaN</td>\n",
       "    </tr>\n",
       "    <tr>\n",
       "      <th>15067</th>\n",
       "      <td>9.010339e+08</td>\n",
       "      <td>cruze ltz 2015 ( 64.000 km) raridade novo</td>\n",
       "      <td>64.000 km  |  câmbio: automático  |  flex  |</td>\n",
       "      <td>r$ 71.600</td>\n",
       "      <td>limeira, jardim nova itália - ddd 19</td>\n",
       "      <td>hoje, 10:51</td>\n",
       "      <td>https://sp.olx.com.br/grande-campinas/autos-e-...</td>\n",
       "      <td>2022-05-04</td>\n",
       "      <td>sp</td>\n",
       "      <td>2015</td>\n",
       "      <td>NaN</td>\n",
       "      <td>NaN</td>\n",
       "      <td>NaN</td>\n",
       "      <td>71600</td>\n",
       "    </tr>\n",
       "    <tr>\n",
       "      <th>15975</th>\n",
       "      <td>9.691529e+08</td>\n",
       "      <td>citroen c4 cactus 1.6 vti 120 feel eat6 2021</td>\n",
       "      <td>22.553 km  |  câmbio: automático  |  flex  |</td>\n",
       "      <td>r$ 99.790</td>\n",
       "      <td>santo andré, tamanduateí 8 - ddd 11</td>\n",
       "      <td>hoje, 09:50</td>\n",
       "      <td>https://sp.olx.com.br/sao-paulo-e-regiao/autos...</td>\n",
       "      <td>2022-05-04</td>\n",
       "      <td>sp</td>\n",
       "      <td>2021</td>\n",
       "      <td>NaN</td>\n",
       "      <td>NaN</td>\n",
       "      <td>NaN</td>\n",
       "      <td>99790</td>\n",
       "    </tr>\n",
       "    <tr>\n",
       "      <th>86412</th>\n",
       "      <td>9.373388e+08</td>\n",
       "      <td>ford ecosport 1.6 freestyle completa c/ r$ 1.0...</td>\n",
       "      <td>98 km  |  câmbio: manual  |  flex  |</td>\n",
       "      <td>r$ 34.901</td>\n",
       "      <td>belém, pedreira - ddd 91</td>\n",
       "      <td>28 abr, 12:00</td>\n",
       "      <td>https://pa.olx.com.br/regiao-de-belem/autos-e-...</td>\n",
       "      <td>2022-05-04</td>\n",
       "      <td>pa</td>\n",
       "      <td>2011.0</td>\n",
       "      <td>NaN</td>\n",
       "      <td>NaN</td>\n",
       "      <td>NaN</td>\n",
       "      <td>34901</td>\n",
       "    </tr>\n",
       "    <tr>\n",
       "      <th>18370</th>\n",
       "      <td>1.015822e+09</td>\n",
       "      <td>chevrolet cruze 1.4 turbo lt 16v flex 4p autom...</td>\n",
       "      <td>0 km  |  câmbio: automático  |  flex  |</td>\n",
       "      <td>r$ 137.400</td>\n",
       "      <td>ponta grossa, chapada - ddd 42</td>\n",
       "      <td>ontem, 20:23</td>\n",
       "      <td>https://pr.olx.com.br/regiao-de-ponta-grossa-e...</td>\n",
       "      <td>2022-05-04</td>\n",
       "      <td>pr</td>\n",
       "      <td>2022.0</td>\n",
       "      <td>NaN</td>\n",
       "      <td>NaN</td>\n",
       "      <td>NaN</td>\n",
       "      <td>137400</td>\n",
       "    </tr>\n",
       "    <tr>\n",
       "      <th>70593</th>\n",
       "      <td>1.021969e+09</td>\n",
       "      <td>sw4 srx 21/21 7 lugares</td>\n",
       "      <td>10.700 km  |  câmbio: automático  |  diesel  |</td>\n",
       "      <td>r$ 421.900</td>\n",
       "      <td>boa vista, mecejana - ddd 95</td>\n",
       "      <td>18 abr, 20:44</td>\n",
       "      <td>https://rr.olx.com.br/roraima/autos-e-pecas/ca...</td>\n",
       "      <td>2022-05-04</td>\n",
       "      <td>rr</td>\n",
       "      <td>2021.0</td>\n",
       "      <td>NaN</td>\n",
       "      <td>NaN</td>\n",
       "      <td>NaN</td>\n",
       "      <td>421900</td>\n",
       "    </tr>\n",
       "    <tr>\n",
       "      <th>4867</th>\n",
       "      <td>NaN</td>\n",
       "      <td>NaN</td>\n",
       "      <td>NaN</td>\n",
       "      <td>NaN</td>\n",
       "      <td>NaN</td>\n",
       "      <td>NaN</td>\n",
       "      <td>NaN</td>\n",
       "      <td>NaN</td>\n",
       "      <td>NaN</td>\n",
       "      <td>NaN</td>\n",
       "      <td>159000</td>\n",
       "      <td>automático</td>\n",
       "      <td>flex</td>\n",
       "      <td>NaN</td>\n",
       "    </tr>\n",
       "  </tbody>\n",
       "</table>\n",
       "</div>"
      ],
      "text/plain": [
       "                 ID                                             TITULO  \\\n",
       "81074  1.020398e+09                     som automotivo gls   são luís    \n",
       "1555            NaN                                                NaN   \n",
       "197    1.008058e+09                             jeep compass 2017/2018   \n",
       "1676            NaN                                                NaN   \n",
       "15067  9.010339e+08          cruze ltz 2015 ( 64.000 km) raridade novo   \n",
       "15975  9.691529e+08       citroen c4 cactus 1.6 vti 120 feel eat6 2021   \n",
       "86412  9.373388e+08  ford ecosport 1.6 freestyle completa c/ r$ 1.0...   \n",
       "18370  1.015822e+09  chevrolet cruze 1.4 turbo lt 16v flex 4p autom...   \n",
       "70593  1.021969e+09                           sw4 srx 21/21 7 lugares    \n",
       "4867            NaN                                                NaN   \n",
       "\n",
       "                                                  INFOS       VALOR  \\\n",
       "81074    20.000 km  |  câmbio: automático  |  flex  |        r$ 190   \n",
       "1555                                                NaN         NaN   \n",
       "197      35.000 km  |  câmbio: automático  |  flex  |    r$ 124.990   \n",
       "1676                                                NaN         NaN   \n",
       "15067    64.000 km  |  câmbio: automático  |  flex  |     r$ 71.600   \n",
       "15975    22.553 km  |  câmbio: automático  |  flex  |     r$ 99.790   \n",
       "86412            98 km  |  câmbio: manual  |  flex  |     r$ 34.901   \n",
       "18370         0 km  |  câmbio: automático  |  flex  |    r$ 137.400   \n",
       "70593  10.700 km  |  câmbio: automático  |  diesel  |    r$ 421.900   \n",
       "4867                                                NaN         NaN   \n",
       "\n",
       "                                        LOCAL   DATA_ANUNCIO  \\\n",
       "81074  são luís, planalto vinhais ii - ddd 98  14 abr, 10:58   \n",
       "1555                                      NaN            NaN   \n",
       "197               fortaleza, aldeota - ddd 85    hoje, 19:55   \n",
       "1676                                      NaN            NaN   \n",
       "15067    limeira, jardim nova itália - ddd 19    hoje, 10:51   \n",
       "15975     santo andré, tamanduateí 8 - ddd 11    hoje, 09:50   \n",
       "86412                belém, pedreira - ddd 91  28 abr, 12:00   \n",
       "18370          ponta grossa, chapada - ddd 42   ontem, 20:23   \n",
       "70593            boa vista, mecejana - ddd 95  18 abr, 20:44   \n",
       "4867                                      NaN            NaN   \n",
       "\n",
       "                                                    LINK  \\\n",
       "81074  https://ma.olx.com.br/regiao-de-sao-luis/autos...   \n",
       "1555                                                 NaN   \n",
       "197    https://ce.olx.com.br/fortaleza-e-regiao/autos...   \n",
       "1676                                                 NaN   \n",
       "15067  https://sp.olx.com.br/grande-campinas/autos-e-...   \n",
       "15975  https://sp.olx.com.br/sao-paulo-e-regiao/autos...   \n",
       "86412  https://pa.olx.com.br/regiao-de-belem/autos-e-...   \n",
       "18370  https://pr.olx.com.br/regiao-de-ponta-grossa-e...   \n",
       "70593  https://rr.olx.com.br/roraima/autos-e-pecas/ca...   \n",
       "4867                                                 NaN   \n",
       "\n",
       "      DATA_COLETA_METADADOS   UF     Ano      KM      CAMBIO COMBUSTIVEL  \\\n",
       "81074            2022-05-04   ma    2020     NaN         NaN         NaN   \n",
       "1555                    NaN  NaN     NaN       0  automático      diesel   \n",
       "197              2022-05-04   ce  2018.0  124000      manual        flex   \n",
       "1676                    NaN  NaN     NaN   81000      manual        flex   \n",
       "15067            2022-05-04   sp    2015     NaN         NaN         NaN   \n",
       "15975            2022-05-04   sp    2021     NaN         NaN         NaN   \n",
       "86412            2022-05-04   pa  2011.0     NaN         NaN         NaN   \n",
       "18370            2022-05-04   pr  2022.0     NaN         NaN         NaN   \n",
       "70593            2022-05-04   rr  2021.0     NaN         NaN         NaN   \n",
       "4867                    NaN  NaN     NaN  159000  automático        flex   \n",
       "\n",
       "      VALOR_LIMPO  \n",
       "81074         190  \n",
       "1555          NaN  \n",
       "197        124990  \n",
       "1676          NaN  \n",
       "15067       71600  \n",
       "15975       99790  \n",
       "86412       34901  \n",
       "18370      137400  \n",
       "70593      421900  \n",
       "4867          NaN  "
      ]
     },
     "execution_count": 81,
     "metadata": {},
     "output_type": "execute_result"
    }
   ],
   "source": [
    "df_metadados_limpos_2.sample(10)"
   ]
  }
 ],
 "metadata": {
  "kernelspec": {
   "display_name": "Python 3.9.13 ('olx_env')",
   "language": "python",
   "name": "python3"
  },
  "language_info": {
   "codemirror_mode": {
    "name": "ipython",
    "version": 3
   },
   "file_extension": ".py",
   "mimetype": "text/x-python",
   "name": "python",
   "nbconvert_exporter": "python",
   "pygments_lexer": "ipython3",
   "version": "3.9.13"
  },
  "orig_nbformat": 4,
  "vscode": {
   "interpreter": {
    "hash": "7ac0e389a8c0231ddf9046512d8804a63e086ab740c18a8848002b731b7c2a3d"
   }
  }
 },
 "nbformat": 4,
 "nbformat_minor": 2
}
